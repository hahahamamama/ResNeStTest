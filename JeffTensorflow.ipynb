{
  "nbformat": 4,
  "nbformat_minor": 0,
  "metadata": {
    "colab": {
      "name": "JeffTensorflow.ipynb",
      "provenance": [],
      "collapsed_sections": [],
      "authorship_tag": "ABX9TyNs1G33sTTlHB8POd17nZdi",
      "include_colab_link": true
    },
    "kernelspec": {
      "name": "python3",
      "display_name": "Python 3"
    }
  },
  "cells": [
    {
      "cell_type": "markdown",
      "metadata": {
        "id": "view-in-github",
        "colab_type": "text"
      },
      "source": [
        "<a href=\"https://colab.research.google.com/github/hahahamamama/ResNeStTest/blob/master/JeffTensorflow.ipynb\" target=\"_parent\"><img src=\"https://colab.research.google.com/assets/colab-badge.svg\" alt=\"Open In Colab\"/></a>"
      ]
    },
    {
      "cell_type": "code",
      "metadata": {
        "id": "7AWXFEoYvWQ1"
      },
      "source": [
        "import tensorflow as tf"
      ],
      "execution_count": null,
      "outputs": []
    },
    {
      "cell_type": "code",
      "metadata": {
        "colab": {
          "base_uri": "https://localhost:8080/"
        },
        "id": "6i1cSUccu-8Y",
        "outputId": "e7c7a1fc-85b0-454f-9c38-1ca18a5c2bcf"
      },
      "source": [
        "print(tf.config.list_physical_devices('GPU'))"
      ],
      "execution_count": null,
      "outputs": [
        {
          "output_type": "stream",
          "text": [
            "[]\n"
          ],
          "name": "stdout"
        }
      ]
    },
    {
      "cell_type": "code",
      "metadata": {
        "id": "c4s9wCtgvJM6"
      },
      "source": [
        "a=tf.constant('Hello,Deep Learning.')"
      ],
      "execution_count": null,
      "outputs": []
    },
    {
      "cell_type": "code",
      "metadata": {
        "colab": {
          "base_uri": "https://localhost:8080/"
        },
        "id": "oJ_u8gR59Mm3",
        "outputId": "d19a2d79-867f-4dd4-fa04-dfa846749c89"
      },
      "source": [
        "a"
      ],
      "execution_count": null,
      "outputs": [
        {
          "output_type": "execute_result",
          "data": {
            "text/plain": [
              "<tf.Tensor: shape=(), dtype=string, numpy=b'Hello,Deep Learning.'>"
            ]
          },
          "metadata": {
            "tags": []
          },
          "execution_count": 6
        }
      ]
    },
    {
      "cell_type": "code",
      "metadata": {
        "colab": {
          "base_uri": "https://localhost:8080/"
        },
        "id": "Ow8OF7dP9Pvn",
        "outputId": "3b7490de-8016-4e08-d096-6b40e8521032"
      },
      "source": [
        "tf.strings.lower(a)"
      ],
      "execution_count": null,
      "outputs": [
        {
          "output_type": "execute_result",
          "data": {
            "text/plain": [
              "<tf.Tensor: shape=(), dtype=string, numpy=b'hello,deep learning.'>"
            ]
          },
          "metadata": {
            "tags": []
          },
          "execution_count": 7
        }
      ]
    },
    {
      "cell_type": "code",
      "metadata": {
        "colab": {
          "base_uri": "https://localhost:8080/"
        },
        "id": "MMv_dJ5v9hOc",
        "outputId": "cbc69511-9429-4aa8-a9e4-e73b92b5704c"
      },
      "source": [
        "a"
      ],
      "execution_count": null,
      "outputs": [
        {
          "output_type": "execute_result",
          "data": {
            "text/plain": [
              "<tf.Tensor: shape=(), dtype=string, numpy=b'Hello,Deep Learning.'>"
            ]
          },
          "metadata": {
            "tags": []
          },
          "execution_count": 8
        }
      ]
    },
    {
      "cell_type": "code",
      "metadata": {
        "id": "9qwfAenR9kOG"
      },
      "source": [
        "a=tf.constant(True)"
      ],
      "execution_count": null,
      "outputs": []
    },
    {
      "cell_type": "code",
      "metadata": {
        "colab": {
          "base_uri": "https://localhost:8080/"
        },
        "id": "nrEEP7Js965g",
        "outputId": "b9fdac04-7df4-4cc3-b682-9d607d2f232d"
      },
      "source": [
        "a"
      ],
      "execution_count": null,
      "outputs": [
        {
          "output_type": "execute_result",
          "data": {
            "text/plain": [
              "<tf.Tensor: shape=(), dtype=bool, numpy=True>"
            ]
          },
          "metadata": {
            "tags": []
          },
          "execution_count": 10
        }
      ]
    },
    {
      "cell_type": "code",
      "metadata": {
        "id": "8iYNpbtF98B4"
      },
      "source": [
        "a=tf.constant([True,False])"
      ],
      "execution_count": null,
      "outputs": []
    },
    {
      "cell_type": "code",
      "metadata": {
        "colab": {
          "base_uri": "https://localhost:8080/"
        },
        "id": "Gd4vcQHn-Pjq",
        "outputId": "5626388f-91ec-49e7-aa0d-6facca1fcb86"
      },
      "source": [
        "a"
      ],
      "execution_count": null,
      "outputs": [
        {
          "output_type": "execute_result",
          "data": {
            "text/plain": [
              "<tf.Tensor: shape=(2,), dtype=bool, numpy=array([ True, False])>"
            ]
          },
          "metadata": {
            "tags": []
          },
          "execution_count": 12
        }
      ]
    },
    {
      "cell_type": "code",
      "metadata": {
        "id": "5hqdBqd9-QOC"
      },
      "source": [
        "a=tf.constant(True)"
      ],
      "execution_count": null,
      "outputs": []
    },
    {
      "cell_type": "code",
      "metadata": {
        "colab": {
          "base_uri": "https://localhost:8080/"
        },
        "id": "OyrPpUes_Ocz",
        "outputId": "c697fb05-04f6-4311-85f3-22e7efbcbcbb"
      },
      "source": [
        "a is True"
      ],
      "execution_count": null,
      "outputs": [
        {
          "output_type": "execute_result",
          "data": {
            "text/plain": [
              "False"
            ]
          },
          "metadata": {
            "tags": []
          },
          "execution_count": 14
        }
      ]
    },
    {
      "cell_type": "code",
      "metadata": {
        "colab": {
          "base_uri": "https://localhost:8080/"
        },
        "id": "spRWt9qY_PzR",
        "outputId": "4664d678-f2a3-447a-9d69-eeea92d56418"
      },
      "source": [
        "a==True"
      ],
      "execution_count": null,
      "outputs": [
        {
          "output_type": "execute_result",
          "data": {
            "text/plain": [
              "<tf.Tensor: shape=(), dtype=bool, numpy=True>"
            ]
          },
          "metadata": {
            "tags": []
          },
          "execution_count": 15
        }
      ]
    },
    {
      "cell_type": "code",
      "metadata": {
        "id": "kjtf0FHB_ScN"
      },
      "source": [
        "import numpy as np"
      ],
      "execution_count": null,
      "outputs": []
    },
    {
      "cell_type": "code",
      "metadata": {
        "colab": {
          "base_uri": "https://localhost:8080/"
        },
        "id": "s-HLmUIWBhRj",
        "outputId": "e9060187-9f54-416a-aafe-f55338acf923"
      },
      "source": [
        "np.pi"
      ],
      "execution_count": null,
      "outputs": [
        {
          "output_type": "execute_result",
          "data": {
            "text/plain": [
              "3.141592653589793"
            ]
          },
          "metadata": {
            "tags": []
          },
          "execution_count": 17
        }
      ]
    },
    {
      "cell_type": "code",
      "metadata": {
        "colab": {
          "base_uri": "https://localhost:8080/"
        },
        "id": "KjPuus2dBiQ0",
        "outputId": "bdea0c16-38bd-4fa9-a25e-0bdae9d810b8"
      },
      "source": [
        "tf.constant(np.pi,dtype=tf.float32)"
      ],
      "execution_count": null,
      "outputs": [
        {
          "output_type": "execute_result",
          "data": {
            "text/plain": [
              "<tf.Tensor: shape=(), dtype=float32, numpy=3.1415927>"
            ]
          },
          "metadata": {
            "tags": []
          },
          "execution_count": 18
        }
      ]
    },
    {
      "cell_type": "code",
      "metadata": {
        "colab": {
          "base_uri": "https://localhost:8080/"
        },
        "id": "KNJaGi6bBute",
        "outputId": "2fb039f7-7c43-4bf0-db0b-55dfa476c8aa"
      },
      "source": [
        "tf.constant(np.pi,dtype=tf.float64)"
      ],
      "execution_count": null,
      "outputs": [
        {
          "output_type": "execute_result",
          "data": {
            "text/plain": [
              "<tf.Tensor: shape=(), dtype=float64, numpy=3.141592653589793>"
            ]
          },
          "metadata": {
            "tags": []
          },
          "execution_count": 19
        }
      ]
    },
    {
      "cell_type": "code",
      "metadata": {
        "colab": {
          "base_uri": "https://localhost:8080/"
        },
        "id": "-R6UaNAhB5tB",
        "outputId": "8844e32e-f067-416e-ba16-5f479944f2bc"
      },
      "source": [
        "a.dtype"
      ],
      "execution_count": null,
      "outputs": [
        {
          "output_type": "execute_result",
          "data": {
            "text/plain": [
              "tf.bool"
            ]
          },
          "metadata": {
            "tags": []
          },
          "execution_count": 20
        }
      ]
    },
    {
      "cell_type": "code",
      "metadata": {
        "colab": {
          "base_uri": "https://localhost:8080/"
        },
        "id": "repncmy8Chcn",
        "outputId": "2a9aebe2-597b-48b2-ec69-d66b49e4d4bf"
      },
      "source": [
        "print('before:',a.dtype)"
      ],
      "execution_count": null,
      "outputs": [
        {
          "output_type": "stream",
          "text": [
            "before: <dtype: 'bool'>\n"
          ],
          "name": "stdout"
        }
      ]
    },
    {
      "cell_type": "code",
      "metadata": {
        "id": "npIw4ZyPcDO7"
      },
      "source": [
        "a=tf.constant(np.pi,dtype=tf.float16)"
      ],
      "execution_count": null,
      "outputs": []
    },
    {
      "cell_type": "code",
      "metadata": {
        "colab": {
          "base_uri": "https://localhost:8080/"
        },
        "id": "cej4-qLGkCBN",
        "outputId": "c30d5468-ad7d-48cc-9b28-74abfeac6a1e"
      },
      "source": [
        "tf.cast(a,tf.double)"
      ],
      "execution_count": null,
      "outputs": [
        {
          "output_type": "execute_result",
          "data": {
            "text/plain": [
              "<tf.Tensor: shape=(), dtype=float64, numpy=3.140625>"
            ]
          },
          "metadata": {
            "tags": []
          },
          "execution_count": 24
        }
      ]
    },
    {
      "cell_type": "code",
      "metadata": {
        "id": "0yFhHkJ4kS2g"
      },
      "source": [
        "a=tf.constant([-1,0,1,2])"
      ],
      "execution_count": null,
      "outputs": []
    },
    {
      "cell_type": "code",
      "metadata": {
        "colab": {
          "base_uri": "https://localhost:8080/"
        },
        "id": "fXg4U5hTkqfX",
        "outputId": "e5980384-f70c-4d4f-b5ed-1447b61e6f1c"
      },
      "source": [
        "tf.cast(a,tf.bool)"
      ],
      "execution_count": null,
      "outputs": [
        {
          "output_type": "execute_result",
          "data": {
            "text/plain": [
              "<tf.Tensor: shape=(4,), dtype=bool, numpy=array([ True, False,  True,  True])>"
            ]
          },
          "metadata": {
            "tags": []
          },
          "execution_count": 26
        }
      ]
    },
    {
      "cell_type": "code",
      "metadata": {
        "id": "BgK__GDFkt7l"
      },
      "source": [
        "a=tf.constant([-1,0,1,2])"
      ],
      "execution_count": null,
      "outputs": []
    },
    {
      "cell_type": "code",
      "metadata": {
        "id": "4LMeeLqknHC6"
      },
      "source": [
        "aa=tf.Variable(a)"
      ],
      "execution_count": null,
      "outputs": []
    },
    {
      "cell_type": "code",
      "metadata": {
        "colab": {
          "base_uri": "https://localhost:8080/",
          "height": 35
        },
        "id": "Rte6E-qknLop",
        "outputId": "16a5e020-7453-4759-8e69-ae6668367248"
      },
      "source": [
        "aa.name"
      ],
      "execution_count": null,
      "outputs": [
        {
          "output_type": "execute_result",
          "data": {
            "application/vnd.google.colaboratory.intrinsic+json": {
              "type": "string"
            },
            "text/plain": [
              "'Variable:0'"
            ]
          },
          "metadata": {
            "tags": []
          },
          "execution_count": 29
        }
      ]
    },
    {
      "cell_type": "code",
      "metadata": {
        "colab": {
          "base_uri": "https://localhost:8080/"
        },
        "id": "m7d0yd0vnNhK",
        "outputId": "2966b36e-66b3-4b48-b686-77e3b0d372fe"
      },
      "source": [
        "aa.trainable"
      ],
      "execution_count": null,
      "outputs": [
        {
          "output_type": "execute_result",
          "data": {
            "text/plain": [
              "True"
            ]
          },
          "metadata": {
            "tags": []
          },
          "execution_count": 30
        }
      ]
    },
    {
      "cell_type": "code",
      "metadata": {
        "id": "replkBl1nTA1"
      },
      "source": [
        "a=tf.Variable([[1,2],[3,4]])"
      ],
      "execution_count": null,
      "outputs": []
    },
    {
      "cell_type": "code",
      "metadata": {
        "colab": {
          "base_uri": "https://localhost:8080/"
        },
        "id": "XEAXT8MPqIEy",
        "outputId": "99d2ca22-6307-4d73-fbb9-8d479a2eb61c"
      },
      "source": [
        "a"
      ],
      "execution_count": null,
      "outputs": [
        {
          "output_type": "execute_result",
          "data": {
            "text/plain": [
              "<tf.Variable 'Variable:0' shape=(2, 2) dtype=int32, numpy=\n",
              "array([[1, 2],\n",
              "       [3, 4]], dtype=int32)>"
            ]
          },
          "metadata": {
            "tags": []
          },
          "execution_count": 32
        }
      ]
    },
    {
      "cell_type": "code",
      "metadata": {
        "colab": {
          "base_uri": "https://localhost:8080/"
        },
        "id": "nVx5xk_bqKqL",
        "outputId": "a5648262-8eed-42d8-d490-71bca6be83a9"
      },
      "source": [
        "tf.convert_to_tensor([1,2.])"
      ],
      "execution_count": null,
      "outputs": [
        {
          "output_type": "execute_result",
          "data": {
            "text/plain": [
              "<tf.Tensor: shape=(2,), dtype=float32, numpy=array([1., 2.], dtype=float32)>"
            ]
          },
          "metadata": {
            "tags": []
          },
          "execution_count": 33
        }
      ]
    },
    {
      "cell_type": "code",
      "metadata": {
        "colab": {
          "base_uri": "https://localhost:8080/"
        },
        "id": "Nx2D23hVrEqg",
        "outputId": "de3d3045-a4db-41d5-e3c0-8ea9f8938d7f"
      },
      "source": [
        "tf.convert_to_tensor(np.array([[1,2.],[3,4]]))"
      ],
      "execution_count": null,
      "outputs": [
        {
          "output_type": "execute_result",
          "data": {
            "text/plain": [
              "<tf.Tensor: shape=(2, 2), dtype=float64, numpy=\n",
              "array([[1., 2.],\n",
              "       [3., 4.]])>"
            ]
          },
          "metadata": {
            "tags": []
          },
          "execution_count": 35
        }
      ]
    },
    {
      "cell_type": "code",
      "metadata": {
        "colab": {
          "base_uri": "https://localhost:8080/"
        },
        "id": "X7TAkpAosZTV",
        "outputId": "db13a0dd-5bd7-423b-c69d-0702bf7c2d05"
      },
      "source": [
        "tf.zeros([]),tf.ones([])"
      ],
      "execution_count": null,
      "outputs": [
        {
          "output_type": "execute_result",
          "data": {
            "text/plain": [
              "(<tf.Tensor: shape=(), dtype=float32, numpy=0.0>,\n",
              " <tf.Tensor: shape=(), dtype=float32, numpy=1.0>)"
            ]
          },
          "metadata": {
            "tags": []
          },
          "execution_count": 37
        }
      ]
    },
    {
      "cell_type": "code",
      "metadata": {
        "colab": {
          "base_uri": "https://localhost:8080/"
        },
        "id": "nBZ-djCkwC_h",
        "outputId": "90de0af6-0211-4018-d0fd-9a9de5041c07"
      },
      "source": [
        "tf.zeros([5])"
      ],
      "execution_count": null,
      "outputs": [
        {
          "output_type": "execute_result",
          "data": {
            "text/plain": [
              "<tf.Tensor: shape=(5,), dtype=float32, numpy=array([0., 0., 0., 0., 0.], dtype=float32)>"
            ]
          },
          "metadata": {
            "tags": []
          },
          "execution_count": 38
        }
      ]
    },
    {
      "cell_type": "code",
      "metadata": {
        "colab": {
          "base_uri": "https://localhost:8080/"
        },
        "id": "G9d5wCNdxKA2",
        "outputId": "6ae52aba-7490-45c7-89da-e646f218a9f8"
      },
      "source": [
        "tf.zeros([2,2])"
      ],
      "execution_count": null,
      "outputs": [
        {
          "output_type": "execute_result",
          "data": {
            "text/plain": [
              "<tf.Tensor: shape=(2, 2), dtype=float32, numpy=\n",
              "array([[0., 0.],\n",
              "       [0., 0.]], dtype=float32)>"
            ]
          },
          "metadata": {
            "tags": []
          },
          "execution_count": 39
        }
      ]
    },
    {
      "cell_type": "code",
      "metadata": {
        "id": "zZGMMNb1xPBj"
      },
      "source": [
        "a=tf.ones([2,3])"
      ],
      "execution_count": null,
      "outputs": []
    },
    {
      "cell_type": "code",
      "metadata": {
        "colab": {
          "base_uri": "https://localhost:8080/"
        },
        "id": "-Uf5j7a3x80d",
        "outputId": "4540893d-f149-4abb-8d8f-cafa98383b12"
      },
      "source": [
        "tf.zeros_like(a)"
      ],
      "execution_count": null,
      "outputs": [
        {
          "output_type": "execute_result",
          "data": {
            "text/plain": [
              "<tf.Tensor: shape=(2, 3), dtype=float32, numpy=\n",
              "array([[0., 0., 0.],\n",
              "       [0., 0., 0.]], dtype=float32)>"
            ]
          },
          "metadata": {
            "tags": []
          },
          "execution_count": 41
        }
      ]
    },
    {
      "cell_type": "code",
      "metadata": {
        "colab": {
          "base_uri": "https://localhost:8080/"
        },
        "id": "YwfzhC69x_7e",
        "outputId": "314837bd-3bfc-43b3-fce0-ca141c63594c"
      },
      "source": [
        "tf.zeros(a.shape)"
      ],
      "execution_count": null,
      "outputs": [
        {
          "output_type": "execute_result",
          "data": {
            "text/plain": [
              "<tf.Tensor: shape=(2, 3), dtype=float32, numpy=\n",
              "array([[0., 0., 0.],\n",
              "       [0., 0., 0.]], dtype=float32)>"
            ]
          },
          "metadata": {
            "tags": []
          },
          "execution_count": 43
        }
      ]
    },
    {
      "cell_type": "code",
      "metadata": {
        "colab": {
          "base_uri": "https://localhost:8080/"
        },
        "id": "Bp5_DVt2yclP",
        "outputId": "76cc77cc-5b13-483e-e33d-0cea02658d47"
      },
      "source": [
        "tf.fill([10,10],99.)"
      ],
      "execution_count": null,
      "outputs": [
        {
          "output_type": "execute_result",
          "data": {
            "text/plain": [
              "<tf.Tensor: shape=(10, 10), dtype=float32, numpy=\n",
              "array([[99., 99., 99., 99., 99., 99., 99., 99., 99., 99.],\n",
              "       [99., 99., 99., 99., 99., 99., 99., 99., 99., 99.],\n",
              "       [99., 99., 99., 99., 99., 99., 99., 99., 99., 99.],\n",
              "       [99., 99., 99., 99., 99., 99., 99., 99., 99., 99.],\n",
              "       [99., 99., 99., 99., 99., 99., 99., 99., 99., 99.],\n",
              "       [99., 99., 99., 99., 99., 99., 99., 99., 99., 99.],\n",
              "       [99., 99., 99., 99., 99., 99., 99., 99., 99., 99.],\n",
              "       [99., 99., 99., 99., 99., 99., 99., 99., 99., 99.],\n",
              "       [99., 99., 99., 99., 99., 99., 99., 99., 99., 99.],\n",
              "       [99., 99., 99., 99., 99., 99., 99., 99., 99., 99.]], dtype=float32)>"
            ]
          },
          "metadata": {
            "tags": []
          },
          "execution_count": 44
        }
      ]
    },
    {
      "cell_type": "code",
      "metadata": {
        "colab": {
          "base_uri": "https://localhost:8080/"
        },
        "id": "avZYF95N0bmb",
        "outputId": "9c369ef5-6c5d-4c69-af79-3a291523b086"
      },
      "source": [
        "tf.random.normal([5,5],4,5)"
      ],
      "execution_count": null,
      "outputs": [
        {
          "output_type": "execute_result",
          "data": {
            "text/plain": [
              "<tf.Tensor: shape=(5, 5), dtype=float32, numpy=\n",
              "array([[12.209058  , 13.39993   ,  1.511828  ,  5.1853247 , -4.47993   ],\n",
              "       [ 0.92288303,  3.6808705 ,  7.6875076 , 10.908468  ,  4.3917384 ],\n",
              "       [ 4.5938835 ,  7.1148834 ,  8.517881  ,  6.3242636 , 12.55228   ],\n",
              "       [ 9.378788  ,  3.9415398 ,  2.9553533 ,  6.0703697 ,  0.46198297],\n",
              "       [ 1.9936523 ,  3.677814  ,  5.119338  ,  3.6249146 ,  0.36580658]],\n",
              "      dtype=float32)>"
            ]
          },
          "metadata": {
            "tags": []
          },
          "execution_count": 45
        }
      ]
    },
    {
      "cell_type": "code",
      "metadata": {
        "colab": {
          "base_uri": "https://localhost:8080/"
        },
        "id": "yTg6Wpr22cWs",
        "outputId": "3703a921-302c-4abd-fbf8-462e3087512d"
      },
      "source": [
        "tf.random.normal([5,5],mean=4,stddev=5)"
      ],
      "execution_count": null,
      "outputs": [
        {
          "output_type": "execute_result",
          "data": {
            "text/plain": [
              "<tf.Tensor: shape=(5, 5), dtype=float32, numpy=\n",
              "array([[21.530258  ,  1.083662  , -0.9634986 ,  6.4824343 , -0.38508558],\n",
              "       [ 7.6364245 ,  6.1953783 , -4.884907  ,  4.8506784 ,  1.306421  ],\n",
              "       [ 6.4899454 , 11.5451975 ,  1.5576665 ,  0.47049308,  4.1038446 ],\n",
              "       [-7.3916626 , 14.332233  ,  1.1519961 ,  7.7658854 , 10.933249  ],\n",
              "       [ 0.07445288,  3.1696649 ,  0.82124734, 16.63048   ,  2.5521016 ]],\n",
              "      dtype=float32)>"
            ]
          },
          "metadata": {
            "tags": []
          },
          "execution_count": 46
        }
      ]
    },
    {
      "cell_type": "code",
      "metadata": {
        "colab": {
          "base_uri": "https://localhost:8080/"
        },
        "id": "Cn92JMYy2not",
        "outputId": "a4048e08-0a92-403c-9b89-23b7feda0f07"
      },
      "source": [
        "tf.random.uniform([2,2],10,100)"
      ],
      "execution_count": null,
      "outputs": [
        {
          "output_type": "execute_result",
          "data": {
            "text/plain": [
              "<tf.Tensor: shape=(2, 2), dtype=float32, numpy=\n",
              "array([[66.20279 , 53.450607],\n",
              "       [20.386501, 73.981995]], dtype=float32)>"
            ]
          },
          "metadata": {
            "tags": []
          },
          "execution_count": 47
        }
      ]
    },
    {
      "cell_type": "code",
      "metadata": {
        "colab": {
          "base_uri": "https://localhost:8080/"
        },
        "id": "hjcFICcy6H2a",
        "outputId": "7de3dbd2-3dd6-4bfe-82ff-466bc208bba3"
      },
      "source": [
        "tf.random.uniform([2,2],10,maxval=100,dtype=tf.int32)"
      ],
      "execution_count": null,
      "outputs": [
        {
          "output_type": "execute_result",
          "data": {
            "text/plain": [
              "<tf.Tensor: shape=(2, 2), dtype=int32, numpy=\n",
              "array([[26, 66],\n",
              "       [47, 23]], dtype=int32)>"
            ]
          },
          "metadata": {
            "tags": []
          },
          "execution_count": 50
        }
      ]
    },
    {
      "cell_type": "code",
      "metadata": {
        "colab": {
          "base_uri": "https://localhost:8080/"
        },
        "id": "kzQO7vQQ6RYX",
        "outputId": "0a7e3b94-48f3-49df-dc84-749a6f8f572c"
      },
      "source": [
        "tf.range(-10,2,1)"
      ],
      "execution_count": null,
      "outputs": [
        {
          "output_type": "execute_result",
          "data": {
            "text/plain": [
              "<tf.Tensor: shape=(12,), dtype=int32, numpy=\n",
              "array([-10,  -9,  -8,  -7,  -6,  -5,  -4,  -3,  -2,  -1,   0,   1],\n",
              "      dtype=int32)>"
            ]
          },
          "metadata": {
            "tags": []
          },
          "execution_count": 52
        }
      ]
    },
    {
      "cell_type": "code",
      "metadata": {
        "id": "hEe4mYBQ7fRo"
      },
      "source": [
        "out=tf.random.uniform([4,10])"
      ],
      "execution_count": null,
      "outputs": []
    },
    {
      "cell_type": "code",
      "metadata": {
        "id": "EDy-IuSk_Yi8"
      },
      "source": [
        "y=tf.constant([2,3,2,0])"
      ],
      "execution_count": null,
      "outputs": []
    },
    {
      "cell_type": "code",
      "metadata": {
        "id": "pKdSvWOI_dS7"
      },
      "source": [
        "y=tf.one_hot(y,depth=10)"
      ],
      "execution_count": null,
      "outputs": []
    },
    {
      "cell_type": "code",
      "metadata": {
        "id": "SVcR2AZq_xOT"
      },
      "source": [
        "loss=tf.keras.losses.mse(y,out)"
      ],
      "execution_count": null,
      "outputs": []
    },
    {
      "cell_type": "code",
      "metadata": {
        "id": "cK0QI8_y_5-2"
      },
      "source": [
        "loss=tf.reduce_mean(loss)"
      ],
      "execution_count": null,
      "outputs": []
    },
    {
      "cell_type": "code",
      "metadata": {
        "colab": {
          "base_uri": "https://localhost:8080/"
        },
        "id": "BsVTxZ9t__a6",
        "outputId": "1045ff41-53dc-4431-9f64-0eb1b2e4dfc1"
      },
      "source": [
        "print(loss)"
      ],
      "execution_count": null,
      "outputs": [
        {
          "output_type": "stream",
          "text": [
            "tf.Tensor(0.36068684, shape=(), dtype=float32)\n"
          ],
          "name": "stdout"
        }
      ]
    },
    {
      "cell_type": "code",
      "metadata": {
        "id": "xNVnzwZxEZgJ"
      },
      "source": [
        "import keras"
      ],
      "execution_count": null,
      "outputs": []
    },
    {
      "cell_type": "code",
      "metadata": {
        "id": "r0xqwye5AA1r"
      },
      "source": [
        "fc=keras.layers.Dense(3)"
      ],
      "execution_count": null,
      "outputs": []
    },
    {
      "cell_type": "code",
      "metadata": {
        "id": "suNrxAwwD-rZ"
      },
      "source": [
        "fc.build(input_shape=(2,4))"
      ],
      "execution_count": null,
      "outputs": []
    },
    {
      "cell_type": "code",
      "metadata": {
        "colab": {
          "base_uri": "https://localhost:8080/"
        },
        "id": "E5eGihDzEGwm",
        "outputId": "629f4677-85cf-4885-b4bd-0f22da0490f2"
      },
      "source": [
        "fc.bias"
      ],
      "execution_count": null,
      "outputs": [
        {
          "output_type": "execute_result",
          "data": {
            "text/plain": [
              "<tf.Variable 'bias:0' shape=(3,) dtype=float32, numpy=array([0., 0., 0.], dtype=float32)>"
            ]
          },
          "metadata": {
            "tags": []
          },
          "execution_count": 65
        }
      ]
    },
    {
      "cell_type": "code",
      "metadata": {
        "id": "JrXStXGQEhq-"
      },
      "source": [
        "x=tf.random.normal([2,4])"
      ],
      "execution_count": null,
      "outputs": []
    },
    {
      "cell_type": "code",
      "metadata": {
        "colab": {
          "base_uri": "https://localhost:8080/"
        },
        "id": "25wpP9EoE6QK",
        "outputId": "a3c093f2-9c03-4211-eb32-d908b3c45fc2"
      },
      "source": [
        "x"
      ],
      "execution_count": null,
      "outputs": [
        {
          "output_type": "execute_result",
          "data": {
            "text/plain": [
              "<tf.Tensor: shape=(2, 4), dtype=float32, numpy=\n",
              "array([[-0.37886983,  0.959436  , -0.05064312,  0.27409002],\n",
              "       [ 0.27027926,  0.22748879,  1.2880307 , -0.8966711 ]],\n",
              "      dtype=float32)>"
            ]
          },
          "metadata": {
            "tags": []
          },
          "execution_count": 67
        }
      ]
    },
    {
      "cell_type": "code",
      "metadata": {
        "id": "Ra2-WiNYE7Xg"
      },
      "source": [
        "w=tf.ones([4,3])"
      ],
      "execution_count": null,
      "outputs": []
    },
    {
      "cell_type": "code",
      "metadata": {
        "id": "xy7CelXoFGSO"
      },
      "source": [
        "b=tf.zeros([3])"
      ],
      "execution_count": null,
      "outputs": []
    },
    {
      "cell_type": "code",
      "metadata": {
        "id": "6fy1rJq2FJ_R"
      },
      "source": [
        "o=x@w+b"
      ],
      "execution_count": null,
      "outputs": []
    },
    {
      "cell_type": "code",
      "metadata": {
        "colab": {
          "base_uri": "https://localhost:8080/"
        },
        "id": "fHt5cxd8FQqd",
        "outputId": "5515c903-ff93-4fd2-ddb3-1e17a99d9f40"
      },
      "source": [
        "o"
      ],
      "execution_count": null,
      "outputs": [
        {
          "output_type": "execute_result",
          "data": {
            "text/plain": [
              "<tf.Tensor: shape=(2, 3), dtype=float32, numpy=\n",
              "array([[0.804013  , 0.804013  , 0.804013  ],\n",
              "       [0.88912773, 0.88912773, 0.88912773]], dtype=float32)>"
            ]
          },
          "metadata": {
            "tags": []
          },
          "execution_count": 71
        }
      ]
    },
    {
      "cell_type": "code",
      "metadata": {
        "id": "6wnNGRBkFSve"
      },
      "source": [
        "fc=keras.layers.Dense(3)"
      ],
      "execution_count": null,
      "outputs": []
    },
    {
      "cell_type": "code",
      "metadata": {
        "id": "qOcmCO0DGg6N"
      },
      "source": [
        "fc.build(input_shape=(2,4))"
      ],
      "execution_count": null,
      "outputs": []
    },
    {
      "cell_type": "code",
      "metadata": {
        "colab": {
          "base_uri": "https://localhost:8080/"
        },
        "id": "LWQ2_zD_Gwcx",
        "outputId": "5a715a68-fd7a-4288-a196-b9407ad8b2aa"
      },
      "source": [
        "fc.kernel"
      ],
      "execution_count": null,
      "outputs": [
        {
          "output_type": "execute_result",
          "data": {
            "text/plain": [
              "<tf.Variable 'kernel:0' shape=(4, 3) dtype=float32, numpy=\n",
              "array([[ 0.2147429 , -0.4344064 ,  0.71342754],\n",
              "       [ 0.7461636 ,  0.64161575, -0.29920298],\n",
              "       [-0.62198573,  0.04573381,  0.901494  ],\n",
              "       [-0.11728305, -0.59829116,  0.8688239 ]], dtype=float32)>"
            ]
          },
          "metadata": {
            "tags": []
          },
          "execution_count": 75
        }
      ]
    },
    {
      "cell_type": "code",
      "metadata": {
        "colab": {
          "base_uri": "https://localhost:8080/"
        },
        "id": "Vc1RDBSvGzKC",
        "outputId": "f403d24c-536b-4f75-bb79-3bfb37683a6f"
      },
      "source": [
        "(x_train,y_train),(x_test,y_test)=keras.datasets.imdb.load_data(num_words=10000)"
      ],
      "execution_count": null,
      "outputs": [
        {
          "output_type": "stream",
          "text": [
            "Downloading data from https://storage.googleapis.com/tensorflow/tf-keras-datasets/imdb.npz\n",
            "17465344/17464789 [==============================] - 0s 0us/step\n"
          ],
          "name": "stdout"
        },
        {
          "output_type": "stream",
          "text": [
            "<string>:6: VisibleDeprecationWarning: Creating an ndarray from ragged nested sequences (which is a list-or-tuple of lists-or-tuples-or ndarrays with different lengths or shapes) is deprecated. If you meant to do this, you must specify 'dtype=object' when creating the ndarray\n",
            "/usr/local/lib/python3.6/dist-packages/tensorflow/python/keras/datasets/imdb.py:159: VisibleDeprecationWarning: Creating an ndarray from ragged nested sequences (which is a list-or-tuple of lists-or-tuples-or ndarrays with different lengths or shapes) is deprecated. If you meant to do this, you must specify 'dtype=object' when creating the ndarray\n",
            "  x_train, y_train = np.array(xs[:idx]), np.array(labels[:idx])\n",
            "/usr/local/lib/python3.6/dist-packages/tensorflow/python/keras/datasets/imdb.py:160: VisibleDeprecationWarning: Creating an ndarray from ragged nested sequences (which is a list-or-tuple of lists-or-tuples-or ndarrays with different lengths or shapes) is deprecated. If you meant to do this, you must specify 'dtype=object' when creating the ndarray\n",
            "  x_test, y_test = np.array(xs[idx:]), np.array(labels[idx:])\n"
          ],
          "name": "stderr"
        }
      ]
    },
    {
      "cell_type": "code",
      "metadata": {
        "id": "WIcmz7L_IiAV"
      },
      "source": [
        "x_train=keras.preprocessing.sequence.pad_sequences(x_train,maxlen=80)"
      ],
      "execution_count": null,
      "outputs": []
    },
    {
      "cell_type": "code",
      "metadata": {
        "colab": {
          "base_uri": "https://localhost:8080/"
        },
        "id": "weWeJdHDI0TQ",
        "outputId": "37f24562-63fa-40c5-9fd7-942445822f75"
      },
      "source": [
        "x_train"
      ],
      "execution_count": null,
      "outputs": [
        {
          "output_type": "execute_result",
          "data": {
            "text/plain": [
              "array([[  15,  256,    4, ...,   19,  178,   32],\n",
              "       [ 125,   68,    2, ...,   16,  145,   95],\n",
              "       [ 645,  662,    8, ...,    7,  129,  113],\n",
              "       ...,\n",
              "       [ 529,  443,    2, ...,    4, 3586,    2],\n",
              "       [ 286, 1814,   23, ...,   12,    9,   23],\n",
              "       [  97,   90,   35, ...,  204,  131,    9]], dtype=int32)"
            ]
          },
          "metadata": {
            "tags": []
          },
          "execution_count": 78
        }
      ]
    },
    {
      "cell_type": "code",
      "metadata": {
        "id": "NhJEL-KHI4KQ"
      },
      "source": [
        "embedding=keras.layers.Embedding(10000,100)"
      ],
      "execution_count": null,
      "outputs": []
    },
    {
      "cell_type": "code",
      "metadata": {
        "colab": {
          "base_uri": "https://localhost:8080/"
        },
        "id": "O35bTEikJLoo",
        "outputId": "948957cf-85ca-404e-9bd3-85b84eb3bb7d"
      },
      "source": [
        "embedding"
      ],
      "execution_count": null,
      "outputs": [
        {
          "output_type": "execute_result",
          "data": {
            "text/plain": [
              "<tensorflow.python.keras.layers.embeddings.Embedding at 0x7f573dff29b0>"
            ]
          },
          "metadata": {
            "tags": []
          },
          "execution_count": 81
        }
      ]
    },
    {
      "cell_type": "code",
      "metadata": {
        "id": "a4iIUjfxJX-r"
      },
      "source": [
        "out=embedding(x_train)"
      ],
      "execution_count": null,
      "outputs": []
    },
    {
      "cell_type": "code",
      "metadata": {
        "colab": {
          "base_uri": "https://localhost:8080/"
        },
        "id": "Nosy8_aTJd4C",
        "outputId": "78ba3af4-1905-48c2-b83d-1deb8f5f8992"
      },
      "source": [
        "out"
      ],
      "execution_count": null,
      "outputs": [
        {
          "output_type": "execute_result",
          "data": {
            "text/plain": [
              "<tf.Tensor: shape=(25000, 80, 100), dtype=float32, numpy=\n",
              "array([[[-0.04021563,  0.01307968, -0.04984891, ...,  0.04220096,\n",
              "         -0.00344938, -0.00430394],\n",
              "        [-0.04188459, -0.03336221, -0.00560045, ..., -0.03291296,\n",
              "          0.04028597, -0.04623732],\n",
              "        [-0.01317321,  0.01222872,  0.0363437 , ..., -0.02420864,\n",
              "          0.04716537, -0.0266579 ],\n",
              "        ...,\n",
              "        [-0.04043851,  0.00680863, -0.0030802 , ...,  0.02932615,\n",
              "         -0.02425534, -0.03516083],\n",
              "        [-0.00592532, -0.00583968, -0.04690992, ..., -0.0398738 ,\n",
              "          0.0185179 , -0.02911673],\n",
              "        [ 0.03481025,  0.04163137, -0.04750731, ..., -0.00856458,\n",
              "         -0.026806  , -0.00657086]],\n",
              "\n",
              "       [[-0.01392273,  0.03192449, -0.0387852 , ...,  0.0127793 ,\n",
              "          0.02118481, -0.04661726],\n",
              "        [-0.00458124,  0.00795797,  0.01611234, ..., -0.03099334,\n",
              "          0.03805638, -0.02571954],\n",
              "        [ 0.03667558,  0.02020805,  0.01759786, ..., -0.03963963,\n",
              "          0.03157851,  0.01505372],\n",
              "        ...,\n",
              "        [ 0.02120676, -0.0375998 ,  0.02842354, ..., -0.00679718,\n",
              "         -0.0312425 , -0.03943903],\n",
              "        [ 0.03294655,  0.03525819,  0.04132115, ..., -0.00033797,\n",
              "         -0.0398447 , -0.04962455],\n",
              "        [ 0.04414593, -0.02645842, -0.03729534, ..., -0.02892813,\n",
              "          0.03648473, -0.00625665]],\n",
              "\n",
              "       [[-0.00179835,  0.03538883,  0.02702094, ...,  0.02014369,\n",
              "         -0.03299154, -0.0113063 ],\n",
              "        [-0.02214834, -0.02488269, -0.03507193, ..., -0.02810069,\n",
              "          0.03397692,  0.01532597],\n",
              "        [-0.04503403,  0.01053251,  0.03008241, ..., -0.03518649,\n",
              "          0.00792607,  0.013742  ],\n",
              "        ...,\n",
              "        [ 0.00437075, -0.01057035,  0.04201401, ...,  0.03054488,\n",
              "          0.02755919, -0.00520977],\n",
              "        [ 0.00901599, -0.04443656, -0.01033872, ..., -0.00647306,\n",
              "         -0.02579275, -0.03895064],\n",
              "        [ 0.01516508,  0.0134814 ,  0.03868547, ...,  0.02034077,\n",
              "         -0.03320414, -0.04583398]],\n",
              "\n",
              "       ...,\n",
              "\n",
              "       [[-0.0096672 ,  0.03607832,  0.03736002, ..., -0.01180802,\n",
              "          0.03893774,  0.00417763],\n",
              "        [-0.00069561,  0.01033511,  0.00222493, ...,  0.0128523 ,\n",
              "         -0.03874258, -0.04887053],\n",
              "        [ 0.03667558,  0.02020805,  0.01759786, ..., -0.03963963,\n",
              "          0.03157851,  0.01505372],\n",
              "        ...,\n",
              "        [-0.01317321,  0.01222872,  0.0363437 , ..., -0.02420864,\n",
              "          0.04716537, -0.0266579 ],\n",
              "        [ 0.02125837, -0.0449867 , -0.03749879, ...,  0.00714762,\n",
              "         -0.00082387,  0.04327101],\n",
              "        [ 0.03667558,  0.02020805,  0.01759786, ..., -0.03963963,\n",
              "          0.03157851,  0.01505372]],\n",
              "\n",
              "       [[-0.04777559, -0.03626889, -0.04223638, ..., -0.00537486,\n",
              "          0.02182334,  0.0188953 ],\n",
              "        [ 0.01467315, -0.00900626, -0.0225623 , ...,  0.03783988,\n",
              "          0.02469314,  0.0262823 ],\n",
              "        [-0.04563934, -0.03865885,  0.03875201, ...,  0.02927123,\n",
              "          0.02681058, -0.04748085],\n",
              "        ...,\n",
              "        [ 0.02077054,  0.02788832, -0.00254684, ..., -0.02094801,\n",
              "         -0.02235068,  0.0132562 ],\n",
              "        [-0.02174279, -0.01091292, -0.01824808, ..., -0.03176223,\n",
              "          0.03730733, -0.03257425],\n",
              "        [-0.04563934, -0.03865885,  0.03875201, ...,  0.02927123,\n",
              "          0.02681058, -0.04748085]],\n",
              "\n",
              "       [[-0.034011  , -0.03750239,  0.00290197, ..., -0.00948788,\n",
              "          0.01391624,  0.04192949],\n",
              "        [ 0.04950136,  0.00744819,  0.00648044, ..., -0.00395796,\n",
              "          0.04402616, -0.03908116],\n",
              "        [ 0.04935087,  0.03527445,  0.04996982, ...,  0.04282026,\n",
              "          0.00435151, -0.04120294],\n",
              "        ...,\n",
              "        [ 0.04588919, -0.01556547,  0.02376706, ..., -0.00715647,\n",
              "         -0.02751569, -0.03047297],\n",
              "        [-0.03849959,  0.0193327 ,  0.03034664, ...,  0.04094643,\n",
              "          0.03482778,  0.03457275],\n",
              "        [-0.02174279, -0.01091292, -0.01824808, ..., -0.03176223,\n",
              "          0.03730733, -0.03257425]]], dtype=float32)>"
            ]
          },
          "metadata": {
            "tags": []
          },
          "execution_count": 83
        }
      ]
    },
    {
      "cell_type": "code",
      "metadata": {
        "colab": {
          "base_uri": "https://localhost:8080/"
        },
        "id": "3I9h6HgNJfHN",
        "outputId": "cc511bb7-59bc-4088-fb4a-bb928b29a128"
      },
      "source": [
        "out.shape"
      ],
      "execution_count": null,
      "outputs": [
        {
          "output_type": "execute_result",
          "data": {
            "text/plain": [
              "TensorShape([25000, 80, 100])"
            ]
          },
          "metadata": {
            "tags": []
          },
          "execution_count": 84
        }
      ]
    },
    {
      "cell_type": "code",
      "metadata": {
        "id": "K4eFGfAPJlNj"
      },
      "source": [
        "x=tf.random.normal([4,32,32,3])"
      ],
      "execution_count": null,
      "outputs": []
    },
    {
      "cell_type": "code",
      "metadata": {
        "id": "5Eh4TX7dgPgv"
      },
      "source": [
        "layer=keras.layers.Conv2D(16,kernel_size=3)"
      ],
      "execution_count": null,
      "outputs": []
    },
    {
      "cell_type": "code",
      "metadata": {
        "id": "MpLNL4Mjgge3"
      },
      "source": [
        "out=layer(x)"
      ],
      "execution_count": null,
      "outputs": []
    },
    {
      "cell_type": "code",
      "metadata": {
        "colab": {
          "base_uri": "https://localhost:8080/"
        },
        "id": "Sz06Yk3GgtD-",
        "outputId": "38fe15d9-d08c-40f0-fd3a-5f8096e97063"
      },
      "source": [
        "out.shape"
      ],
      "execution_count": null,
      "outputs": [
        {
          "output_type": "execute_result",
          "data": {
            "text/plain": [
              "TensorShape([4, 30, 30, 16])"
            ]
          },
          "metadata": {
            "tags": []
          },
          "execution_count": 89
        }
      ]
    },
    {
      "cell_type": "code",
      "metadata": {
        "colab": {
          "base_uri": "https://localhost:8080/"
        },
        "id": "jX12OdChgv_U",
        "outputId": "9ca503fe-13dd-4779-e364-ee85625a85e8"
      },
      "source": [
        "out"
      ],
      "execution_count": null,
      "outputs": [
        {
          "output_type": "execute_result",
          "data": {
            "text/plain": [
              "<tf.Tensor: shape=(4, 30, 30, 16), dtype=float32, numpy=\n",
              "array([[[[ 6.41736209e-01,  4.31328177e-01,  8.37394893e-02, ...,\n",
              "          -2.52457768e-01, -3.19739543e-02, -7.06923977e-02],\n",
              "         [ 2.41924748e-01, -2.42845073e-01,  2.60963231e-01, ...,\n",
              "           8.69800270e-01, -2.84981411e-02, -2.61779547e-01],\n",
              "         [-3.13759446e-01,  9.80254591e-01, -2.54607260e-01, ...,\n",
              "           1.54775992e-01,  4.07788865e-02,  3.14680070e-01],\n",
              "         ...,\n",
              "         [-3.96215230e-01,  4.41411436e-01,  4.43613112e-01, ...,\n",
              "           6.86065927e-02,  4.49731082e-01,  7.98755139e-02],\n",
              "         [-5.99994302e-01, -6.42619371e-01, -5.50456583e-01, ...,\n",
              "          -5.18553972e-01,  2.84141712e-02, -1.18125808e+00],\n",
              "         [ 7.15644479e-01,  5.49348414e-01,  2.95093030e-01, ...,\n",
              "          -1.45463571e-01, -3.08005929e-01, -4.35372353e-01]],\n",
              "\n",
              "        [[ 4.21181560e-01, -9.11426306e-01,  4.93799239e-01, ...,\n",
              "          -2.53365785e-01, -4.24380630e-01, -1.74045098e+00],\n",
              "         [-6.84431612e-01,  1.16088390e+00,  3.15672338e-01, ...,\n",
              "          -3.27561826e-01,  5.31334043e-01,  1.19609880e+00],\n",
              "         [ 5.41710615e-01, -5.78515232e-01, -7.63837934e-01, ...,\n",
              "           3.42440993e-01,  9.53082368e-02, -1.81940153e-01],\n",
              "         ...,\n",
              "         [-7.00879335e-01, -4.08822179e-01, -8.75071645e-01, ...,\n",
              "           3.83692980e-01, -4.46156651e-01,  8.67418289e-01],\n",
              "         [ 6.34614706e-01, -1.87278494e-01,  1.85074836e-01, ...,\n",
              "          -8.77001464e-01, -9.17400658e-01, -8.61277163e-01],\n",
              "         [-5.14859796e-01, -1.63895714e+00,  3.91869038e-01, ...,\n",
              "           3.15426663e-02,  5.33797108e-02, -1.17706823e+00]],\n",
              "\n",
              "        [[-1.39606595e+00,  7.26862311e-01,  5.57158113e-01, ...,\n",
              "           8.95234793e-02,  2.09090835e-03, -5.29946461e-02],\n",
              "         [ 1.10927606e+00, -1.10324204e+00, -4.83735427e-02, ...,\n",
              "          -1.40740246e-01, -2.96593130e-01, -1.80244461e-01],\n",
              "         [-6.88505471e-01, -2.97708530e-02, -6.22896016e-01, ...,\n",
              "           5.85945882e-03, -8.39197755e-01,  1.21154092e-01],\n",
              "         ...,\n",
              "         [ 1.15472829e+00, -5.17432630e-01, -8.88138175e-01, ...,\n",
              "           2.36957550e-01, -6.12409711e-01,  6.95517480e-01],\n",
              "         [-3.00322384e-01, -6.72619939e-01,  6.36166692e-01, ...,\n",
              "           1.49347961e+00, -1.38526797e-01,  1.88734949e-01],\n",
              "         [-2.88419366e-01, -3.97286564e-02,  1.11727822e+00, ...,\n",
              "           3.67190599e-01, -1.84248760e-01,  9.08499420e-01]],\n",
              "\n",
              "        ...,\n",
              "\n",
              "        [[-3.42507988e-01, -1.74678162e-01, -2.43097529e-01, ...,\n",
              "          -3.36351953e-02,  3.06013167e-01, -7.88742751e-02],\n",
              "         [-5.75363338e-01,  8.75361383e-01, -2.36978963e-01, ...,\n",
              "          -5.17350614e-01,  1.76715568e-01, -5.57993591e-01],\n",
              "         [ 7.61187017e-01, -1.11982524e+00, -8.26762989e-03, ...,\n",
              "          -3.68072204e-02, -7.13169217e-01, -1.14725113e+00],\n",
              "         ...,\n",
              "         [ 5.15333772e-01,  5.01183271e-02,  2.05311388e-01, ...,\n",
              "          -4.21746641e-01,  3.48394513e-01, -2.15719473e-02],\n",
              "         [ 2.49983996e-01,  7.05851009e-03, -1.40658808e+00, ...,\n",
              "           1.15882069e-01,  7.75447667e-01,  9.41876531e-01],\n",
              "         [ 4.13473994e-01, -3.18954587e-01,  3.12786222e-01, ...,\n",
              "           5.89711685e-03,  4.24936824e-02,  6.80511594e-02]],\n",
              "\n",
              "        [[-7.03004971e-02,  1.39719331e+00,  2.67578542e-01, ...,\n",
              "           6.49382234e-01,  1.14492349e-01,  9.16974306e-01],\n",
              "         [-1.16239583e+00,  4.90421116e-01, -4.54473495e-01, ...,\n",
              "          -2.39850566e-01, -6.63894534e-01, -5.91740072e-01],\n",
              "         [ 1.66213050e-01, -6.83035612e-01,  2.47774899e-01, ...,\n",
              "          -3.49615991e-01, -2.93482672e-02, -1.24520802e+00],\n",
              "         ...,\n",
              "         [ 7.95510948e-01, -2.37118587e-01,  3.15909982e-01, ...,\n",
              "          -1.52690157e-01,  1.27792910e-01, -9.12858605e-01],\n",
              "         [-8.36835086e-01,  5.69568932e-01, -1.65330672e+00, ...,\n",
              "          -3.83476466e-01,  6.79717243e-01,  6.33799210e-02],\n",
              "         [ 1.06601071e+00,  1.53600171e-01, -9.04367864e-01, ...,\n",
              "           3.14166248e-02, -1.00008905e+00, -4.11226302e-01]],\n",
              "\n",
              "        [[-2.59261250e-01, -2.63849378e-01,  2.98598766e-01, ...,\n",
              "          -2.31297657e-01, -3.63467455e-01, -2.58935660e-01],\n",
              "         [-1.83270529e-01, -4.39829558e-01, -4.64243472e-01, ...,\n",
              "           2.11362869e-01, -9.27462161e-01,  5.18399626e-02],\n",
              "         [-2.96345115e-01, -5.24368882e-01,  8.61020267e-01, ...,\n",
              "           4.36512202e-01, -4.41395342e-01, -4.88213569e-01],\n",
              "         ...,\n",
              "         [-5.54736614e-01,  5.43305092e-02,  3.47892791e-01, ...,\n",
              "           7.50312448e-01,  5.59293151e-01,  6.75380528e-01],\n",
              "         [ 1.65584993e+00, -4.04002279e-01,  9.27259982e-01, ...,\n",
              "          -8.75772595e-01, -7.63802007e-02, -3.13916087e-01],\n",
              "         [-3.29878181e-01,  3.60506736e-02, -8.23491156e-01, ...,\n",
              "           4.19783443e-02,  8.63314271e-01, -1.09383750e+00]]],\n",
              "\n",
              "\n",
              "       [[[ 5.25105238e-01, -7.44366169e-01, -3.01691711e-01, ...,\n",
              "          -6.57898426e-01, -6.82174563e-01, -5.52531600e-01],\n",
              "         [-8.90812799e-02, -7.69564733e-02, -1.09733753e-01, ...,\n",
              "          -5.68833232e-01,  5.98224342e-01,  2.89356381e-01],\n",
              "         [ 7.35970736e-01, -3.96694809e-01, -4.25586104e-01, ...,\n",
              "           4.21565682e-01, -6.23188794e-01, -3.59811634e-02],\n",
              "         ...,\n",
              "         [-1.92290828e-01,  1.30244708e+00, -7.18037724e-01, ...,\n",
              "           6.15049183e-01,  1.50306904e+00,  1.06371105e+00],\n",
              "         [ 7.35469222e-01,  3.32876712e-01, -3.01902801e-01, ...,\n",
              "           6.83250487e-01,  2.35378906e-01, -4.52239871e-01],\n",
              "         [ 6.51403248e-01,  2.11202428e-01,  5.38132310e-01, ...,\n",
              "           8.69155884e-01, -6.50771856e-01, -3.97131443e-01]],\n",
              "\n",
              "        [[-2.94746518e-01,  1.19892791e-01, -3.06329310e-01, ...,\n",
              "           2.56371111e-01,  2.77366370e-01, -2.91981131e-01],\n",
              "         [ 3.50561827e-01, -4.57928181e-01, -2.99104266e-02, ...,\n",
              "           2.85717677e-02, -4.71426606e-01, -2.28404272e-02],\n",
              "         [-3.00162315e-01,  4.93772417e-01,  7.81920105e-02, ...,\n",
              "           1.72720209e-01,  5.63360214e-01, -2.32600302e-01],\n",
              "         ...,\n",
              "         [ 6.19774699e-01, -9.17766273e-01, -7.63061047e-01, ...,\n",
              "          -6.80999935e-01,  2.85931140e-01,  9.06317055e-01],\n",
              "         [-4.27508771e-01, -1.74188244e+00, -7.55202591e-01, ...,\n",
              "           7.01838732e-01, -1.30762920e-01, -5.44253230e-01],\n",
              "         [ 1.85764641e-01, -1.57551467e-01,  3.64088923e-01, ...,\n",
              "          -2.44185716e-01, -1.27508223e-01,  5.20052135e-01]],\n",
              "\n",
              "        [[ 3.99190113e-02, -2.37164363e-01, -5.28462529e-01, ...,\n",
              "           4.71677512e-01,  1.82582662e-01,  1.12763250e+00],\n",
              "         [-1.10232860e-01, -6.13993406e-01, -2.14744844e-02, ...,\n",
              "          -3.46613139e-01,  6.68007135e-01,  7.80838430e-01],\n",
              "         [ 9.11736846e-01, -3.01376611e-01, -5.83249219e-02, ...,\n",
              "          -6.57332018e-02, -1.90412514e-02, -2.54932940e-01],\n",
              "         ...,\n",
              "         [ 1.11995959e+00, -4.30275559e-01, -1.48985609e-01, ...,\n",
              "           6.56875968e-01,  1.02878094e-01, -5.34355581e-01],\n",
              "         [ 1.39758199e-01,  9.37745631e-01, -7.42091656e-01, ...,\n",
              "          -3.15601021e-01, -1.84361652e-01,  1.70786154e+00],\n",
              "         [ 9.30315536e-03,  1.14683700e+00, -4.16312329e-02, ...,\n",
              "           1.02371551e-01,  5.53192079e-01,  2.47291908e-01]],\n",
              "\n",
              "        ...,\n",
              "\n",
              "        [[-9.79810357e-01, -7.88735271e-01,  9.76051390e-02, ...,\n",
              "          -9.36721802e-01, -8.01628172e-01, -1.04324472e+00],\n",
              "         [-1.48898378e-01,  4.73714918e-02, -5.77260315e-01, ...,\n",
              "           2.23279893e-01, -3.39512825e-01, -3.63383055e-01],\n",
              "         [ 3.74406040e-01, -1.32843271e-01,  2.19411656e-01, ...,\n",
              "           1.60239965e-01, -4.42220271e-02, -4.64315504e-01],\n",
              "         ...,\n",
              "         [ 3.69523764e-01, -6.38985038e-01,  1.74932420e+00, ...,\n",
              "          -4.19749737e-01,  4.31550741e-01, -7.99651504e-01],\n",
              "         [-4.36472923e-01,  5.03992736e-01, -1.97083637e-01, ...,\n",
              "           1.17029414e-01, -1.50912955e-01,  7.55233109e-01],\n",
              "         [ 3.91723752e-01, -3.71650517e-01, -7.13227391e-01, ...,\n",
              "          -2.11389754e-02, -2.05446076e+00, -7.35833347e-01]],\n",
              "\n",
              "        [[-7.77185634e-02, -2.47733369e-01,  9.45040360e-02, ...,\n",
              "          -1.82990640e-01, -5.93251348e-01, -1.42228127e+00],\n",
              "         [ 3.40524986e-02,  2.14927971e-01, -4.28751379e-01, ...,\n",
              "           1.73189059e-01, -7.94727206e-01,  1.02671660e-01],\n",
              "         [-2.52606034e-01,  4.97239411e-01,  3.97565991e-01, ...,\n",
              "           1.78295523e-01,  6.38215780e-01, -6.52891219e-01],\n",
              "         ...,\n",
              "         [-1.50713360e+00, -2.00975612e-01,  5.66399097e-01, ...,\n",
              "          -7.33598053e-01, -5.21799862e-01,  7.10156441e-01],\n",
              "         [ 3.07414204e-01, -6.40558898e-01,  2.93018699e-01, ...,\n",
              "          -2.69556846e-02,  5.34284003e-02, -3.75401050e-01],\n",
              "         [ 5.53323627e-01, -2.02629566e-01, -2.91265070e-01, ...,\n",
              "           8.81611764e-01, -2.11956173e-01,  2.40766540e-01]],\n",
              "\n",
              "        [[-4.04759720e-02, -7.02431083e-01,  8.92375231e-01, ...,\n",
              "          -3.84598188e-02, -9.84689772e-01, -1.33737922e+00],\n",
              "         [-3.96683544e-01,  3.06520015e-01,  7.59141803e-01, ...,\n",
              "           3.61303359e-01,  5.02583921e-01, -7.76420236e-02],\n",
              "         [ 5.28528452e-01,  5.61937764e-02,  3.56128246e-01, ...,\n",
              "          -1.85098946e-02, -6.34681404e-01, -6.79607928e-01],\n",
              "         ...,\n",
              "         [-2.97786117e-01, -1.01709235e+00, -1.29219651e+00, ...,\n",
              "          -8.08991611e-01, -4.75869805e-01, -5.96667111e-01],\n",
              "         [-3.20514917e-01, -7.94086814e-01, -2.38782257e-01, ...,\n",
              "          -5.87940633e-01,  1.46211401e-01,  3.41334671e-01],\n",
              "         [-2.61368752e-02, -5.94673445e-03,  1.48642197e-01, ...,\n",
              "           3.53060782e-01,  7.56653309e-01,  2.97362000e-01]]],\n",
              "\n",
              "\n",
              "       [[[ 9.23467278e-01, -7.77983725e-01,  1.14008749e+00, ...,\n",
              "          -9.73105192e-01, -2.20668554e-01, -1.33127618e+00],\n",
              "         [-1.63179323e-01,  4.28345144e-01,  1.17138058e-01, ...,\n",
              "           6.36458322e-02,  1.19389999e+00,  6.17161572e-01],\n",
              "         [ 1.40958712e-01,  6.54051602e-01,  3.98440599e-01, ...,\n",
              "          -3.97789568e-01, -7.61077464e-01, -9.71343875e-01],\n",
              "         ...,\n",
              "         [-2.50994742e-01,  1.04033339e+00, -3.21231365e-01, ...,\n",
              "          -6.44242838e-02,  8.32740486e-01,  1.33907124e-01],\n",
              "         [ 2.06664950e-02,  3.25212717e-01, -9.63639498e-01, ...,\n",
              "           8.89140069e-02,  1.11978561e-01, -1.06705748e-01],\n",
              "         [ 1.66212007e-01, -1.08550811e+00, -1.21116869e-01, ...,\n",
              "          -2.77973086e-01,  1.20262042e-01, -4.81066614e-01]],\n",
              "\n",
              "        [[-1.99028385e+00,  1.49986374e+00,  6.12283468e-01, ...,\n",
              "           5.12198627e-01, -1.02620952e-01, -5.00286043e-01],\n",
              "         [-2.96587825e-01,  3.75906825e-01, -6.12375699e-02, ...,\n",
              "           9.96594224e-03,  3.46312975e-03, -6.99990708e-03],\n",
              "         [-1.21013725e+00,  1.08387277e-01,  1.48737535e-01, ...,\n",
              "           8.51460934e-01, -3.19165885e-01, -9.45006087e-02],\n",
              "         ...,\n",
              "         [ 9.44814086e-01, -1.40416533e-01,  1.31902948e-01, ...,\n",
              "          -2.29086727e-01, -3.34360510e-01,  4.44695592e-01],\n",
              "         [ 4.71552521e-01, -4.51098710e-01,  2.25804210e-01, ...,\n",
              "           1.88274667e-01,  1.37810875e-02, -8.28834176e-01],\n",
              "         [-6.87840581e-01,  3.68909270e-01, -8.32531810e-01, ...,\n",
              "          -6.03100479e-01,  2.48490706e-01,  2.62345165e-01]],\n",
              "\n",
              "        [[ 3.64309028e-02,  5.48272014e-01, -3.44939351e-01, ...,\n",
              "           1.81723107e-02, -5.08418620e-01, -7.02062964e-01],\n",
              "         [-1.40053317e-01, -3.85318175e-02, -2.30259318e-02, ...,\n",
              "          -3.70442420e-01,  2.53415912e-01, -1.33121181e+00],\n",
              "         [ 3.79388511e-01,  2.11201280e-01, -6.31003380e-01, ...,\n",
              "           3.85938615e-01, -2.42312104e-02,  5.04995465e-01],\n",
              "         ...,\n",
              "         [-7.68205643e-01,  2.72749931e-01, -1.09632209e-01, ...,\n",
              "           4.15568501e-01, -3.11913997e-01, -5.62772214e-01],\n",
              "         [-2.75668323e-01, -8.50906149e-02, -1.73931029e-02, ...,\n",
              "          -4.92681861e-02, -5.60953319e-01,  6.16977334e-01],\n",
              "         [-6.52128607e-02, -1.40209064e-01, -4.62477267e-01, ...,\n",
              "           4.53892946e-01,  2.59058345e-02,  4.59006518e-01]],\n",
              "\n",
              "        ...,\n",
              "\n",
              "        [[ 1.30283892e+00, -5.48426569e-01, -2.80093215e-02, ...,\n",
              "          -3.40566665e-01, -2.15451326e-02,  8.76591027e-01],\n",
              "         [ 9.13708329e-01,  2.42550850e-01, -5.67561746e-01, ...,\n",
              "           4.63272661e-01, -2.19208494e-01,  1.91232622e-01],\n",
              "         [-6.66423321e-01,  7.13201091e-02,  5.21270093e-03, ...,\n",
              "          -3.39914322e-01, -4.33748633e-01, -1.09164786e+00],\n",
              "         ...,\n",
              "         [ 3.66173714e-01,  1.84157923e-01,  4.72907096e-01, ...,\n",
              "           4.61961068e-02,  1.67243034e-01, -7.78694004e-02],\n",
              "         [-4.12165552e-01,  6.49585783e-01, -1.63589358e-01, ...,\n",
              "          -1.70261841e-02,  6.20600320e-02, -4.48336959e-01],\n",
              "         [-2.26935372e-01,  2.68086284e-01,  1.13302469e+00, ...,\n",
              "           8.58073533e-01, -4.06933218e-01, -7.55482137e-01]],\n",
              "\n",
              "        [[ 2.18926221e-01,  5.69550991e-01,  5.77761471e-01, ...,\n",
              "           7.26966858e-01, -7.13451028e-01, -1.58028513e-01],\n",
              "         [ 1.97945625e-01,  3.67213726e-01,  7.35903502e-01, ...,\n",
              "           4.08955246e-01, -8.39002490e-01,  2.63642967e-01],\n",
              "         [-1.29587603e+00, -1.95487365e-01, -7.62242198e-01, ...,\n",
              "           1.09772846e-01, -4.14886653e-01, -1.37013525e-01],\n",
              "         ...,\n",
              "         [-8.94938409e-01, -5.46576641e-03,  8.46950889e-01, ...,\n",
              "          -5.03946662e-01,  4.24314767e-01, -6.12691045e-01],\n",
              "         [ 3.32260996e-01,  2.41577715e-01, -4.72720861e-01, ...,\n",
              "           3.22546065e-02,  1.68616802e-01,  2.43583411e-01],\n",
              "         [ 4.73447204e-01, -3.34166586e-01, -1.81403190e-01, ...,\n",
              "           6.17894948e-01, -5.58787026e-02, -6.85598373e-01]],\n",
              "\n",
              "        [[ 3.75447780e-01,  1.52907610e-01,  3.46111774e-01, ...,\n",
              "           1.18386596e-01, -6.18197143e-01, -2.39424035e-01],\n",
              "         [-3.07040751e-01, -5.50386906e-02,  7.71147072e-01, ...,\n",
              "           1.81579530e-01, -2.39092261e-01, -3.13650250e-01],\n",
              "         [ 4.51345474e-01, -3.11236292e-01, -1.05113482e+00, ...,\n",
              "          -4.07031141e-02, -1.06427681e+00,  2.94055432e-01],\n",
              "         ...,\n",
              "         [-1.47228217e+00,  3.36489558e-01, -1.61082223e-01, ...,\n",
              "           9.82755870e-02, -1.98799670e-01,  8.35729003e-01],\n",
              "         [ 6.52997434e-01, -9.64453876e-01,  6.43876754e-03, ...,\n",
              "           6.32277906e-01, -4.52913076e-01, -5.14945447e-01],\n",
              "         [-1.07075131e+00, -1.31142437e-01, -2.04254121e-01, ...,\n",
              "           2.00404555e-01,  5.56696951e-01,  1.01225458e-01]]],\n",
              "\n",
              "\n",
              "       [[[ 4.46749330e-01, -3.03055525e-01,  3.85571480e-01, ...,\n",
              "          -1.37741473e-02,  3.92624646e-01, -9.42893684e-01],\n",
              "         [ 1.81112498e-01,  5.55724464e-02, -4.24481891e-02, ...,\n",
              "          -1.93793774e-01, -9.26414311e-01, -5.98111749e-01],\n",
              "         [-4.65997793e-02, -4.64044027e-02, -1.01613843e+00, ...,\n",
              "          -7.89482772e-01,  3.07227463e-01,  1.18456268e+00],\n",
              "         ...,\n",
              "         [-2.79111534e-01,  2.37549901e-01, -6.03104472e-01, ...,\n",
              "          -3.92918408e-01, -4.06458229e-01, -2.58029699e-01],\n",
              "         [ 6.76000789e-02, -6.41336560e-01,  7.92761207e-01, ...,\n",
              "           3.27307850e-01, -1.25556871e-01, -2.76918054e-01],\n",
              "         [ 4.24542725e-01, -6.19281650e-01,  1.14295026e-02, ...,\n",
              "          -3.43872398e-01, -2.82158136e-01,  9.74229515e-01]],\n",
              "\n",
              "        [[-7.12461710e-01,  4.03793663e-01,  5.09014547e-01, ...,\n",
              "           2.80679733e-01, -5.72877645e-01, -4.49597120e-01],\n",
              "         [-3.90587538e-01, -8.26186419e-01,  9.60760474e-01, ...,\n",
              "          -3.49193424e-01, -1.56178296e-01, -1.30955768e+00],\n",
              "         [ 4.44195896e-01, -7.99979031e-01, -5.16402245e-01, ...,\n",
              "          -1.47525147e-01,  3.30025256e-01,  4.46463287e-01],\n",
              "         ...,\n",
              "         [ 3.17515522e-01, -2.22556844e-01, -1.02047539e+00, ...,\n",
              "           1.71758926e+00,  2.64358252e-01,  1.25511900e-01],\n",
              "         [ 2.03178272e-01,  5.03923178e-01, -1.56162055e-02, ...,\n",
              "          -1.95131183e-01, -1.68500364e-01,  8.88234377e-01],\n",
              "         [-4.02002037e-01, -2.36871645e-01,  9.34429646e-01, ...,\n",
              "           4.07182366e-01,  8.31964016e-01, -1.02032363e-01]],\n",
              "\n",
              "        [[ 4.38696444e-01, -1.29672551e+00,  5.30078232e-01, ...,\n",
              "           8.17795217e-01, -8.10025811e-01, -2.34289095e-01],\n",
              "         [-9.92276430e-01, -3.88169825e-01,  1.02241158e+00, ...,\n",
              "          -2.51766741e-01, -2.17532352e-01,  4.49945062e-01],\n",
              "         [ 9.05646861e-01, -1.46097028e+00,  5.80747277e-02, ...,\n",
              "          -6.23113036e-01,  4.97770190e-01,  1.01439215e-01],\n",
              "         ...,\n",
              "         [ 7.03824520e-01, -2.87895322e-01, -7.62907565e-01, ...,\n",
              "          -3.35297465e-01,  9.57065225e-01, -2.35436961e-01],\n",
              "         [ 1.36668429e-01, -2.35421099e-02, -6.83917820e-01, ...,\n",
              "           8.19214731e-02, -3.06284934e-01, -1.03715003e-01],\n",
              "         [-6.24345303e-01, -3.40236396e-01,  7.46691883e-01, ...,\n",
              "          -4.11583893e-02, -5.48418462e-01,  8.06470573e-01]],\n",
              "\n",
              "        ...,\n",
              "\n",
              "        [[-4.66578364e-01, -2.33174980e-01,  1.00269273e-01, ...,\n",
              "           7.73810595e-02, -1.13837135e+00, -5.25005400e-01],\n",
              "         [ 5.24917245e-01, -6.36370540e-01,  1.17358916e-01, ...,\n",
              "           3.35348755e-01,  2.77584970e-01,  8.00054073e-01],\n",
              "         [-4.69632238e-01,  8.33676338e-01,  2.00502738e-01, ...,\n",
              "           9.87905934e-02,  5.44150949e-01,  5.04498065e-01],\n",
              "         ...,\n",
              "         [ 2.08332014e+00, -6.16129756e-01,  6.59900129e-01, ...,\n",
              "          -5.29193729e-02, -8.36550753e-05,  9.37725753e-02],\n",
              "         [ 4.20110554e-01, -8.34059194e-02,  1.90323561e-01, ...,\n",
              "          -4.29978132e-01,  9.24660087e-01,  7.91983724e-01],\n",
              "         [ 1.04854584e-01,  2.13879421e-01,  1.40571162e-01, ...,\n",
              "          -2.84937825e-02, -7.45270789e-01, -5.12412190e-01]],\n",
              "\n",
              "        [[-8.26285064e-01,  2.85806388e-01, -1.44090509e+00, ...,\n",
              "          -6.99159801e-01,  5.74704520e-02, -8.81300330e-01],\n",
              "         [ 3.04183900e-01,  5.29417992e-01, -1.80129039e+00, ...,\n",
              "          -5.15832722e-01,  2.98721790e-01,  1.78461134e-01],\n",
              "         [ 1.07451713e+00,  1.75734743e-01,  7.12322474e-01, ...,\n",
              "           3.50508034e-01,  1.07072614e-01,  1.49943471e-01],\n",
              "         ...,\n",
              "         [-1.39351845e+00,  9.65084493e-01,  1.33590829e+00, ...,\n",
              "           4.37179655e-01,  6.55622125e-01,  4.34733480e-01],\n",
              "         [ 3.78736287e-01, -3.53699058e-01,  1.06753493e-02, ...,\n",
              "          -2.15066574e-03, -1.89633489e-01,  4.00183111e-01],\n",
              "         [-1.21106274e-01,  4.74754661e-01, -9.26018178e-01, ...,\n",
              "           8.49682167e-02, -5.41776001e-01,  6.64375201e-02]],\n",
              "\n",
              "        [[ 1.14100718e+00,  1.34371117e-01,  1.32142782e+00, ...,\n",
              "           8.70964408e-01, -5.93105733e-01, -6.90235421e-02],\n",
              "         [-9.65326786e-01,  6.41987324e-01,  2.29827482e-02, ...,\n",
              "          -3.70798767e-01,  2.93944746e-01,  5.36052585e-01],\n",
              "         [-1.63740948e-01, -1.64176986e-01, -1.35309815e+00, ...,\n",
              "           2.33888745e-01, -1.51018813e-01, -7.93894351e-01],\n",
              "         ...,\n",
              "         [-8.26500356e-01,  4.93336856e-01, -5.70178688e-01, ...,\n",
              "           4.31523442e-01, -5.62180936e-01,  2.32875943e-01],\n",
              "         [-3.95851135e-01,  4.90486413e-01, -3.50396872e-01, ...,\n",
              "           2.44177997e-01, -9.13243294e-01, -3.00952107e-01],\n",
              "         [-5.03636360e-01,  5.95069490e-02, -1.99823037e-01, ...,\n",
              "           1.26034307e+00,  1.03686228e-01,  3.94582331e-01]]]],\n",
              "      dtype=float32)>"
            ]
          },
          "metadata": {
            "tags": []
          },
          "execution_count": 90
        }
      ]
    },
    {
      "cell_type": "code",
      "metadata": {
        "colab": {
          "base_uri": "https://localhost:8080/"
        },
        "id": "eEMbyBb4hgRm",
        "outputId": "2ad7d0d8-0cc6-4872-e310-1f58005017d8"
      },
      "source": [
        "layer.kernel.shape"
      ],
      "execution_count": null,
      "outputs": [
        {
          "output_type": "execute_result",
          "data": {
            "text/plain": [
              "TensorShape([3, 3, 3, 16])"
            ]
          },
          "metadata": {
            "tags": []
          },
          "execution_count": 91
        }
      ]
    },
    {
      "cell_type": "code",
      "metadata": {
        "colab": {
          "base_uri": "https://localhost:8080/"
        },
        "id": "RklMIQhihy1Y",
        "outputId": "3774ec40-ce40-4476-ebd0-b0bc659b39a0"
      },
      "source": [
        "layer.kernel"
      ],
      "execution_count": null,
      "outputs": [
        {
          "output_type": "execute_result",
          "data": {
            "text/plain": [
              "<tf.Variable 'conv2d/kernel:0' shape=(3, 3, 3, 16) dtype=float32, numpy=\n",
              "array([[[[-0.00177465, -0.13930126, -0.07007159, -0.13333134,\n",
              "           0.04572973, -0.09484395,  0.00676472, -0.14954758,\n",
              "           0.09313449,  0.07274753,  0.07477996,  0.16393512,\n",
              "          -0.18625444, -0.05293265,  0.11305374, -0.18046236],\n",
              "         [ 0.13383609, -0.10349318,  0.1678178 , -0.05469649,\n",
              "          -0.04691553, -0.15728866, -0.10692824, -0.17447257,\n",
              "           0.15385208, -0.02705532, -0.06401317, -0.01020403,\n",
              "          -0.01031335,  0.1344577 ,  0.17390084,  0.12384853],\n",
              "         [ 0.15981814, -0.03448802, -0.11534458, -0.05874209,\n",
              "           0.05472408, -0.18065307,  0.12119329, -0.04338874,\n",
              "          -0.02705956,  0.14774185, -0.03651974,  0.13808504,\n",
              "          -0.07881975,  0.01450182,  0.03709339, -0.03032461]],\n",
              "\n",
              "        [[-0.17916079,  0.14753613,  0.01486915, -0.0247695 ,\n",
              "          -0.13240515, -0.1602776 ,  0.02637056,  0.02843352,\n",
              "           0.00643589, -0.12098257, -0.12191735,  0.05074337,\n",
              "           0.07728827, -0.07397567,  0.0804013 ,  0.07156122],\n",
              "         [-0.17045867,  0.01430094,  0.16549504,  0.05905628,\n",
              "           0.10733995, -0.07980941,  0.1016871 ,  0.14352697,\n",
              "           0.1481295 ,  0.0353508 ,  0.12823495,  0.08925605,\n",
              "           0.11146283, -0.09137789, -0.01694374,  0.07617009],\n",
              "         [-0.08447539, -0.17487921,  0.01104368,  0.08467788,\n",
              "           0.04253936, -0.12246966, -0.10637428,  0.0892134 ,\n",
              "          -0.14224362, -0.12494458, -0.05412962,  0.0955067 ,\n",
              "           0.13936678, -0.11731368,  0.10245308, -0.17753437]],\n",
              "\n",
              "        [[-0.13348337,  0.04964353,  0.17852193,  0.04091002,\n",
              "          -0.11500347, -0.13126698,  0.05188698, -0.15454502,\n",
              "          -0.09856809,  0.06370345,  0.13205692,  0.17323598,\n",
              "           0.1103968 ,  0.18377471, -0.12626258, -0.00853965],\n",
              "         [-0.175266  , -0.17979054, -0.05973752,  0.08261946,\n",
              "           0.16976053,  0.04401416, -0.03563145,  0.09850386,\n",
              "           0.05385183,  0.07798317,  0.14577591,  0.12183318,\n",
              "          -0.07523401,  0.03712943, -0.11197959, -0.1564528 ],\n",
              "         [-0.12834324,  0.00599024, -0.10345763,  0.06785539,\n",
              "           0.14895838, -0.17073056, -0.05188908,  0.06630814,\n",
              "           0.06584886, -0.12841073,  0.10751683,  0.02557346,\n",
              "           0.12910166, -0.07430597, -0.16437194, -0.00437438]]],\n",
              "\n",
              "\n",
              "       [[[ 0.10728008, -0.02857974, -0.13277042, -0.100642  ,\n",
              "           0.16172436, -0.0968214 , -0.1329771 ,  0.11246672,\n",
              "          -0.16058062,  0.07424527, -0.02626123, -0.18280143,\n",
              "          -0.13797714, -0.18066664,  0.02962875,  0.146377  ],\n",
              "         [-0.04631387,  0.17698884, -0.12038548, -0.18053475,\n",
              "          -0.09397196,  0.01186167, -0.1516047 , -0.11265757,\n",
              "          -0.06057024, -0.04527085,  0.08223942,  0.09769887,\n",
              "           0.10320786,  0.03013605,  0.1134682 ,  0.12706354],\n",
              "         [-0.14463606,  0.08109438, -0.12261726, -0.02915102,\n",
              "          -0.17763293,  0.15397605,  0.18641382, -0.16296501,\n",
              "           0.03586726,  0.11291373, -0.04576768, -0.1659712 ,\n",
              "           0.02721573,  0.13960445,  0.0019553 ,  0.00032093]],\n",
              "\n",
              "        [[-0.10679042, -0.00542943, -0.04958454, -0.04926996,\n",
              "           0.08494413,  0.0053173 , -0.07213283, -0.1244112 ,\n",
              "           0.18660939,  0.07628971, -0.16410746, -0.13530701,\n",
              "          -0.175535  , -0.00992343,  0.138241  , -0.16247652],\n",
              "         [ 0.16889268, -0.18505026,  0.15968081, -0.06174497,\n",
              "          -0.05899407, -0.02235715,  0.11905113,  0.18675944,\n",
              "           0.06689298,  0.01268139,  0.02757975,  0.15157783,\n",
              "           0.01358679, -0.00630634, -0.08814523, -0.13521975],\n",
              "         [-0.02464989,  0.14721075,  0.11715356, -0.12358464,\n",
              "          -0.06539887, -0.12623373, -0.07316232,  0.03798789,\n",
              "          -0.11259022,  0.00156462, -0.12979598, -0.13909847,\n",
              "          -0.17749533,  0.04620713, -0.09705644, -0.13273947]],\n",
              "\n",
              "        [[ 0.06984165,  0.07274479,  0.10514331, -0.04409423,\n",
              "          -0.0512792 ,  0.09220833,  0.15112501,  0.13767645,\n",
              "          -0.08950673,  0.01410556, -0.02586447, -0.18521065,\n",
              "          -0.16159387, -0.15985025, -0.03991857, -0.17971078],\n",
              "         [-0.12838179,  0.02213871,  0.11743948,  0.06133312,\n",
              "          -0.14278871, -0.1684827 ,  0.13501468,  0.11422375,\n",
              "          -0.00889228, -0.1791293 ,  0.06279731,  0.0936195 ,\n",
              "          -0.14678362,  0.09692666,  0.00139594, -0.05989709],\n",
              "         [-0.14353934,  0.18703517,  0.02656116,  0.14013886,\n",
              "           0.02936651, -0.1849505 , -0.15985347, -0.14248167,\n",
              "           0.17764804,  0.06115502,  0.03060636,  0.00722967,\n",
              "           0.06922296,  0.0463454 ,  0.05596098, -0.14354444]]],\n",
              "\n",
              "\n",
              "       [[[-0.18172061,  0.08684975,  0.15373662,  0.14379066,\n",
              "          -0.00732319, -0.14204721, -0.02048339, -0.09903345,\n",
              "           0.11593959, -0.08411619,  0.01141627, -0.09348271,\n",
              "          -0.11138557, -0.01288116,  0.1573171 ,  0.13932914],\n",
              "         [ 0.03713576, -0.17414187, -0.09789944, -0.15076442,\n",
              "           0.1541158 ,  0.03941905,  0.01683834, -0.0679184 ,\n",
              "           0.12087753, -0.13395569,  0.1560095 ,  0.00245571,\n",
              "          -0.00721119, -0.00751837, -0.16063266,  0.03479323],\n",
              "         [ 0.11617225,  0.12954924, -0.00994597,  0.10533807,\n",
              "          -0.01778683,  0.17451894, -0.16427092, -0.0237491 ,\n",
              "           0.13902268, -0.07156779, -0.15270811,  0.03196719,\n",
              "          -0.03179467,  0.00251739, -0.0721999 , -0.07951354]],\n",
              "\n",
              "        [[ 0.14367872, -0.01458819,  0.05174839, -0.16011027,\n",
              "          -0.02220507, -0.15207317,  0.03566557, -0.10510429,\n",
              "          -0.02392475,  0.03779955, -0.02256142, -0.09249908,\n",
              "          -0.13259557,  0.02955954, -0.08917969, -0.09989386],\n",
              "         [-0.129749  , -0.08843623,  0.02469732, -0.14469618,\n",
              "          -0.09592614, -0.14054352, -0.04298469,  0.05171156,\n",
              "          -0.05071837,  0.08617398, -0.16583325, -0.05172898,\n",
              "           0.04634041, -0.06861465, -0.13874948, -0.08357263],\n",
              "         [-0.14713612,  0.07246649, -0.07121154,  0.11212781,\n",
              "          -0.01433869,  0.00366358,  0.15883675, -0.15562467,\n",
              "          -0.18198147, -0.1711184 , -0.0714372 , -0.11273938,\n",
              "          -0.14176103, -0.10629612,  0.01744755,  0.04474881]],\n",
              "\n",
              "        [[-0.12488304,  0.117973  ,  0.00929023, -0.00490133,\n",
              "          -0.13265885, -0.03286119, -0.16672274,  0.04540473,\n",
              "           0.09181657, -0.06633816,  0.02939938,  0.06027782,\n",
              "           0.12660432,  0.06637219,  0.02314159, -0.12226963],\n",
              "         [-0.01614901, -0.09831791,  0.18725151,  0.15756372,\n",
              "          -0.1854414 , -0.00178425, -0.06012285, -0.13418694,\n",
              "           0.08120775, -0.11686422,  0.03514019, -0.06641775,\n",
              "           0.11690339, -0.10130587, -0.12471645, -0.18355684],\n",
              "         [ 0.02376679,  0.00653052,  0.10401893, -0.12746495,\n",
              "          -0.05560738,  0.08904085,  0.00557588, -0.04897846,\n",
              "           0.15820405,  0.03551047,  0.07384852, -0.17539029,\n",
              "           0.13057542, -0.02563509,  0.05102554, -0.11370748]]]],\n",
              "      dtype=float32)>"
            ]
          },
          "metadata": {
            "tags": []
          },
          "execution_count": 92
        }
      ]
    },
    {
      "cell_type": "code",
      "metadata": {
        "id": "g_9PAyleh2fz"
      },
      "source": [
        "x=tf.random.normal([4,32,32,3])"
      ],
      "execution_count": null,
      "outputs": []
    },
    {
      "cell_type": "code",
      "metadata": {
        "colab": {
          "base_uri": "https://localhost:8080/"
        },
        "id": "0S-IJIHciUe6",
        "outputId": "f0c2a4df-6caa-4517-98a8-1148225ff21f"
      },
      "source": [
        "x[0]"
      ],
      "execution_count": null,
      "outputs": [
        {
          "output_type": "execute_result",
          "data": {
            "text/plain": [
              "<tf.Tensor: shape=(32, 32, 3), dtype=float32, numpy=\n",
              "array([[[-6.91091001e-01, -9.55639899e-01,  1.34626305e+00],\n",
              "        [ 5.49653172e-01, -1.23678839e+00,  3.09736371e-01],\n",
              "        [-2.04623628e+00, -1.03649068e+00,  1.06056166e+00],\n",
              "        ...,\n",
              "        [ 2.11782479e+00,  2.79717743e-01,  1.24170613e+00],\n",
              "        [ 8.21008503e-01, -3.00894976e-01,  1.79042494e+00],\n",
              "        [ 5.33068478e-01, -8.48693490e-01,  5.73100030e-01]],\n",
              "\n",
              "       [[-3.02203864e-01,  2.46595597e+00,  5.30515432e-01],\n",
              "        [-1.06867337e+00, -9.69091117e-01,  1.13511658e+00],\n",
              "        [ 1.35328388e+00,  2.21436396e-02, -6.57513678e-01],\n",
              "        ...,\n",
              "        [-5.00416219e-01,  3.37892115e-01,  5.21633625e-01],\n",
              "        [ 2.52599269e-01, -1.63074613e+00, -2.66508281e-01],\n",
              "        [ 4.17596102e-01, -5.76509953e-01, -1.36518523e-01]],\n",
              "\n",
              "       [[-5.33104062e-01, -5.39849222e-01, -9.26008046e-01],\n",
              "        [-1.21050155e+00,  6.90985203e-01, -1.14434466e-01],\n",
              "        [ 6.46059453e-01,  5.78921080e-01, -1.93042588e+00],\n",
              "        ...,\n",
              "        [-8.63662720e-01,  2.57410049e-01, -1.39819694e+00],\n",
              "        [-2.26536202e+00, -8.88333678e-01,  1.10792994e+00],\n",
              "        [-1.85595846e+00, -4.12453234e-01, -1.00899572e-02]],\n",
              "\n",
              "       ...,\n",
              "\n",
              "       [[ 9.30285454e-01,  6.05799437e-01,  1.19575612e-01],\n",
              "        [ 1.36471212e+00, -5.63047051e-01,  8.35327283e-02],\n",
              "        [ 9.31496561e-01,  4.68540527e-02,  1.25055087e+00],\n",
              "        ...,\n",
              "        [-4.34305757e-01, -1.87677312e+00, -1.38419688e-01],\n",
              "        [-8.85296464e-01,  9.06657279e-01,  4.04120713e-01],\n",
              "        [ 1.71333387e-01, -3.57351899e-02,  1.19179145e-01]],\n",
              "\n",
              "       [[-9.63842089e-04, -1.16456902e+00,  2.22060695e-01],\n",
              "        [-1.27407944e+00, -7.47061253e-01, -7.98336789e-02],\n",
              "        [-4.38238770e-01,  9.48083043e-01,  1.22175205e+00],\n",
              "        ...,\n",
              "        [ 7.09522843e-01, -6.59754992e-01, -5.28072655e-01],\n",
              "        [ 1.08965654e-02,  2.74642277e+00,  1.70472950e-01],\n",
              "        [ 1.05364954e+00,  1.02190554e-01, -9.83710229e-01]],\n",
              "\n",
              "       [[-1.39382577e+00, -9.39059794e-01, -1.06418085e+00],\n",
              "        [-5.69705367e-01,  9.43146288e-01, -1.08067751e+00],\n",
              "        [-8.13083887e-01,  1.41898561e+00, -7.74916708e-01],\n",
              "        ...,\n",
              "        [ 1.58871919e-01,  3.58155936e-01,  1.08072805e+00],\n",
              "        [ 3.03416818e-01,  2.48798156e+00, -1.63791287e+00],\n",
              "        [ 8.86667550e-01, -2.48224184e-01, -1.25382471e+00]]],\n",
              "      dtype=float32)>"
            ]
          },
          "metadata": {
            "tags": []
          },
          "execution_count": 94
        }
      ]
    },
    {
      "cell_type": "code",
      "metadata": {
        "colab": {
          "base_uri": "https://localhost:8080/"
        },
        "id": "_AF1O6N7iapk",
        "outputId": "ae658d73-4a3d-4a28-9cf1-a6a758488733"
      },
      "source": [
        "x[1,9,2]"
      ],
      "execution_count": null,
      "outputs": [
        {
          "output_type": "execute_result",
          "data": {
            "text/plain": [
              "<tf.Tensor: shape=(3,), dtype=float32, numpy=array([0.142375  , 0.34132123, 0.5243169 ], dtype=float32)>"
            ]
          },
          "metadata": {
            "tags": []
          },
          "execution_count": 95
        }
      ]
    },
    {
      "cell_type": "code",
      "metadata": {
        "colab": {
          "base_uri": "https://localhost:8080/"
        },
        "id": "gSMt7E_5iw7i",
        "outputId": "7d03237e-a775-4b45-8a98-2fc83533c8a7"
      },
      "source": [
        "x[:,:,:,1]"
      ],
      "execution_count": null,
      "outputs": [
        {
          "output_type": "execute_result",
          "data": {
            "text/plain": [
              "<tf.Tensor: shape=(4, 32, 32), dtype=float32, numpy=\n",
              "array([[[-9.55639899e-01, -1.23678839e+00, -1.03649068e+00, ...,\n",
              "          2.79717743e-01, -3.00894976e-01, -8.48693490e-01],\n",
              "        [ 2.46595597e+00, -9.69091117e-01,  2.21436396e-02, ...,\n",
              "          3.37892115e-01, -1.63074613e+00, -5.76509953e-01],\n",
              "        [-5.39849222e-01,  6.90985203e-01,  5.78921080e-01, ...,\n",
              "          2.57410049e-01, -8.88333678e-01, -4.12453234e-01],\n",
              "        ...,\n",
              "        [ 6.05799437e-01, -5.63047051e-01,  4.68540527e-02, ...,\n",
              "         -1.87677312e+00,  9.06657279e-01, -3.57351899e-02],\n",
              "        [-1.16456902e+00, -7.47061253e-01,  9.48083043e-01, ...,\n",
              "         -6.59754992e-01,  2.74642277e+00,  1.02190554e-01],\n",
              "        [-9.39059794e-01,  9.43146288e-01,  1.41898561e+00, ...,\n",
              "          3.58155936e-01,  2.48798156e+00, -2.48224184e-01]],\n",
              "\n",
              "       [[ 5.93706906e-01,  8.20388734e-01, -1.21948290e+00, ...,\n",
              "          6.12778068e-02,  1.24495745e+00, -1.16876626e+00],\n",
              "        [ 1.54604363e+00,  9.15497005e-01, -2.25192964e-01, ...,\n",
              "          3.89155030e-01,  4.99733567e-01,  4.73911792e-01],\n",
              "        [ 9.04809594e-01, -9.91860271e-01,  1.21136117e+00, ...,\n",
              "         -3.52403149e-02, -4.36972558e-01, -5.32505333e-01],\n",
              "        ...,\n",
              "        [ 2.85046667e-01, -3.92019451e-01,  7.65135407e-01, ...,\n",
              "          1.26262933e-01,  2.56984115e-01, -6.47295892e-01],\n",
              "        [ 5.06786048e-01, -1.36264122e+00,  1.25369227e+00, ...,\n",
              "         -1.43027616e+00,  1.14392507e+00, -2.58595914e-01],\n",
              "        [-7.24586308e-01,  8.56670260e-01, -1.40653300e+00, ...,\n",
              "         -2.43907109e-01,  1.26074755e+00,  3.46982807e-01]],\n",
              "\n",
              "       [[-3.08176368e-01,  1.48286792e-02,  7.98467159e-01, ...,\n",
              "          4.18478876e-01,  4.75713402e-01,  1.92007220e+00],\n",
              "        [-6.83247387e-01, -5.57450294e-01, -1.80088878e+00, ...,\n",
              "         -7.75716543e-01,  9.95342314e-01,  4.81407940e-01],\n",
              "        [-2.38929346e-01,  6.16418660e-01, -2.34969519e-02, ...,\n",
              "          8.89570534e-01, -2.15972519e+00, -7.50804916e-02],\n",
              "        ...,\n",
              "        [ 1.84758222e+00,  1.47279784e-01, -1.19545572e-01, ...,\n",
              "          1.20764470e+00,  3.59172851e-01,  5.52937865e-01],\n",
              "        [ 5.95647931e-01, -1.88133463e-01,  1.82828522e+00, ...,\n",
              "          6.15045667e-01,  1.71692395e+00,  2.45557398e-01],\n",
              "        [ 2.54902005e-01,  8.60864758e-01,  2.19991946e+00, ...,\n",
              "         -5.99625349e-01,  1.45330608e+00, -5.16961157e-01]],\n",
              "\n",
              "       [[-2.24186659e+00,  5.71796261e-02,  6.81174755e-01, ...,\n",
              "         -8.68327737e-01,  5.86289346e-01, -3.92472893e-01],\n",
              "        [ 1.55518496e+00, -1.11858830e-01,  1.09105122e+00, ...,\n",
              "          1.64617538e-01,  1.58860266e-01,  6.19030893e-01],\n",
              "        [-8.82280707e-01,  1.94015276e+00, -1.73849165e+00, ...,\n",
              "         -9.44052756e-01, -1.22411668e+00, -6.30620658e-01],\n",
              "        ...,\n",
              "        [-1.54830897e+00,  4.29271042e-01,  4.95250255e-01, ...,\n",
              "          1.07623374e+00, -1.28965390e+00, -1.32937834e-03],\n",
              "        [ 1.61574602e+00, -1.01080239e+00,  6.27024531e-01, ...,\n",
              "          9.65686738e-01, -1.52016664e+00, -8.75785708e-01],\n",
              "        [-9.84067678e-01,  7.50814378e-01, -2.42660180e-01, ...,\n",
              "          3.34744751e-02,  1.07571805e+00, -1.55855179e-01]]],\n",
              "      dtype=float32)>"
            ]
          },
          "metadata": {
            "tags": []
          },
          "execution_count": 110
        }
      ]
    },
    {
      "cell_type": "code",
      "metadata": {
        "colab": {
          "base_uri": "https://localhost:8080/"
        },
        "id": "46Ou8vCFsYG_",
        "outputId": "290e0017-e70d-4eda-af01-e65e8d8ace35"
      },
      "source": [
        "x[0,::-2,::-1]"
      ],
      "execution_count": null,
      "outputs": [
        {
          "output_type": "execute_result",
          "data": {
            "text/plain": [
              "<tf.Tensor: shape=(16, 32, 3), dtype=float32, numpy=\n",
              "array([[[ 0.88666755, -0.24822418, -1.2538247 ],\n",
              "        [ 0.30341682,  2.4879816 , -1.6379129 ],\n",
              "        [ 0.15887192,  0.35815594,  1.080728  ],\n",
              "        ...,\n",
              "        [-0.8130839 ,  1.4189856 , -0.7749167 ],\n",
              "        [-0.56970537,  0.9431463 , -1.0806775 ],\n",
              "        [-1.3938258 , -0.9390598 , -1.0641809 ]],\n",
              "\n",
              "       [[ 0.17133339, -0.03573519,  0.11917914],\n",
              "        [-0.88529646,  0.9066573 ,  0.4041207 ],\n",
              "        [-0.43430576, -1.8767731 , -0.13841969],\n",
              "        ...,\n",
              "        [ 0.93149656,  0.04685405,  1.2505509 ],\n",
              "        [ 1.3647121 , -0.56304705,  0.08353273],\n",
              "        [ 0.93028545,  0.60579944,  0.11957561]],\n",
              "\n",
              "       [[-2.3796139 ,  0.10937788, -1.1170167 ],\n",
              "        [-0.13986047,  0.3271085 , -1.4719396 ],\n",
              "        [ 1.1422403 ,  0.86309844, -0.9397983 ],\n",
              "        ...,\n",
              "        [-0.7965998 , -0.8594849 ,  0.13006984],\n",
              "        [ 0.57853484, -0.63068634,  0.96562636],\n",
              "        [-0.7060746 ,  0.706864  ,  0.79350907]],\n",
              "\n",
              "       ...,\n",
              "\n",
              "       [[-0.79157746, -1.6117064 ,  1.178364  ],\n",
              "        [ 0.3641713 ,  1.718787  ,  0.8769658 ],\n",
              "        [ 0.54457206, -0.6711655 , -0.5764416 ],\n",
              "        ...,\n",
              "        [-0.48043352,  0.09879418,  0.18000895],\n",
              "        [ 0.6061138 ,  0.620148  ,  1.0140638 ],\n",
              "        [-0.23060079, -1.9032236 ,  0.73330283]],\n",
              "\n",
              "       [[ 0.40908298, -0.59194857,  0.00428342],\n",
              "        [-0.5544354 ,  0.13933562, -1.1018126 ],\n",
              "        [-0.9778442 , -0.24162428, -2.150823  ],\n",
              "        ...,\n",
              "        [-0.64283824,  0.9664647 , -0.46687716],\n",
              "        [ 1.2261728 , -0.51470804,  0.3661058 ],\n",
              "        [-0.22685838,  0.9172587 , -0.16823487]],\n",
              "\n",
              "       [[ 0.4175961 , -0.57650995, -0.13651852],\n",
              "        [ 0.25259927, -1.6307461 , -0.26650828],\n",
              "        [-0.5004162 ,  0.33789212,  0.5216336 ],\n",
              "        ...,\n",
              "        [ 1.3532839 ,  0.02214364, -0.6575137 ],\n",
              "        [-1.0686734 , -0.9690911 ,  1.1351166 ],\n",
              "        [-0.30220386,  2.465956  ,  0.53051543]]], dtype=float32)>"
            ]
          },
          "metadata": {
            "tags": []
          },
          "execution_count": 111
        }
      ]
    },
    {
      "cell_type": "code",
      "metadata": {
        "colab": {
          "base_uri": "https://localhost:8080/"
        },
        "id": "cnFxqID2suN_",
        "outputId": "1144b52f-bd9b-4e5c-d15a-24d081c37424"
      },
      "source": [
        "x[2:3,...,1:2]"
      ],
      "execution_count": null,
      "outputs": [
        {
          "output_type": "execute_result",
          "data": {
            "text/plain": [
              "<tf.Tensor: shape=(1, 32, 32, 1), dtype=float32, numpy=\n",
              "array([[[[-0.30817637],\n",
              "         [ 0.01482868],\n",
              "         [ 0.79846716],\n",
              "         ...,\n",
              "         [ 0.41847888],\n",
              "         [ 0.4757134 ],\n",
              "         [ 1.9200722 ]],\n",
              "\n",
              "        [[-0.6832474 ],\n",
              "         [-0.5574503 ],\n",
              "         [-1.8008888 ],\n",
              "         ...,\n",
              "         [-0.77571654],\n",
              "         [ 0.9953423 ],\n",
              "         [ 0.48140794]],\n",
              "\n",
              "        [[-0.23892935],\n",
              "         [ 0.61641866],\n",
              "         [-0.02349695],\n",
              "         ...,\n",
              "         [ 0.88957053],\n",
              "         [-2.1597252 ],\n",
              "         [-0.07508049]],\n",
              "\n",
              "        ...,\n",
              "\n",
              "        [[ 1.8475822 ],\n",
              "         [ 0.14727978],\n",
              "         [-0.11954557],\n",
              "         ...,\n",
              "         [ 1.2076447 ],\n",
              "         [ 0.35917285],\n",
              "         [ 0.55293787]],\n",
              "\n",
              "        [[ 0.59564793],\n",
              "         [-0.18813346],\n",
              "         [ 1.8282852 ],\n",
              "         ...,\n",
              "         [ 0.61504567],\n",
              "         [ 1.716924  ],\n",
              "         [ 0.2455574 ]],\n",
              "\n",
              "        [[ 0.254902  ],\n",
              "         [ 0.86086476],\n",
              "         [ 2.1999195 ],\n",
              "         ...,\n",
              "         [-0.59962535],\n",
              "         [ 1.4533061 ],\n",
              "         [-0.51696116]]]], dtype=float32)>"
            ]
          },
          "metadata": {
            "tags": []
          },
          "execution_count": 112
        }
      ]
    },
    {
      "cell_type": "code",
      "metadata": {
        "id": "oKHHPp9KuPpb"
      },
      "source": [
        "x=tf.range(96)"
      ],
      "execution_count": null,
      "outputs": []
    },
    {
      "cell_type": "code",
      "metadata": {
        "id": "Op9G3aWUycan"
      },
      "source": [
        "x=tf.reshape(x,[2,4,4,3])"
      ],
      "execution_count": null,
      "outputs": []
    },
    {
      "cell_type": "code",
      "metadata": {
        "colab": {
          "base_uri": "https://localhost:8080/"
        },
        "id": "wq7WAS3uyipU",
        "outputId": "40e9f68d-04b8-4c66-852e-ec312436a45d"
      },
      "source": [
        "x"
      ],
      "execution_count": null,
      "outputs": [
        {
          "output_type": "execute_result",
          "data": {
            "text/plain": [
              "<tf.Tensor: shape=(2, 4, 4, 3), dtype=int32, numpy=\n",
              "array([[[[ 0,  1,  2],\n",
              "         [ 3,  4,  5],\n",
              "         [ 6,  7,  8],\n",
              "         [ 9, 10, 11]],\n",
              "\n",
              "        [[12, 13, 14],\n",
              "         [15, 16, 17],\n",
              "         [18, 19, 20],\n",
              "         [21, 22, 23]],\n",
              "\n",
              "        [[24, 25, 26],\n",
              "         [27, 28, 29],\n",
              "         [30, 31, 32],\n",
              "         [33, 34, 35]],\n",
              "\n",
              "        [[36, 37, 38],\n",
              "         [39, 40, 41],\n",
              "         [42, 43, 44],\n",
              "         [45, 46, 47]]],\n",
              "\n",
              "\n",
              "       [[[48, 49, 50],\n",
              "         [51, 52, 53],\n",
              "         [54, 55, 56],\n",
              "         [57, 58, 59]],\n",
              "\n",
              "        [[60, 61, 62],\n",
              "         [63, 64, 65],\n",
              "         [66, 67, 68],\n",
              "         [69, 70, 71]],\n",
              "\n",
              "        [[72, 73, 74],\n",
              "         [75, 76, 77],\n",
              "         [78, 79, 80],\n",
              "         [81, 82, 83]],\n",
              "\n",
              "        [[84, 85, 86],\n",
              "         [87, 88, 89],\n",
              "         [90, 91, 92],\n",
              "         [93, 94, 95]]]], dtype=int32)>"
            ]
          },
          "metadata": {
            "tags": []
          },
          "execution_count": 116
        }
      ]
    },
    {
      "cell_type": "code",
      "metadata": {
        "colab": {
          "base_uri": "https://localhost:8080/"
        },
        "id": "5QVeYuaCytvA",
        "outputId": "ad236c21-ad47-4b35-a4c9-677a95d06b1d"
      },
      "source": [
        "x.ndim,x.shape"
      ],
      "execution_count": null,
      "outputs": [
        {
          "output_type": "execute_result",
          "data": {
            "text/plain": [
              "(4, TensorShape([2, 4, 4, 3]))"
            ]
          },
          "metadata": {
            "tags": []
          },
          "execution_count": 117
        }
      ]
    },
    {
      "cell_type": "code",
      "metadata": {
        "colab": {
          "base_uri": "https://localhost:8080/"
        },
        "id": "_ROCQg441JvI",
        "outputId": "c2304398-a3ed-43e4-ad43-9be30aa572e3"
      },
      "source": [
        "tf.reshape(x,[2,-1])"
      ],
      "execution_count": null,
      "outputs": [
        {
          "output_type": "execute_result",
          "data": {
            "text/plain": [
              "<tf.Tensor: shape=(2, 48), dtype=int32, numpy=\n",
              "array([[ 0,  1,  2,  3,  4,  5,  6,  7,  8,  9, 10, 11, 12, 13, 14, 15,\n",
              "        16, 17, 18, 19, 20, 21, 22, 23, 24, 25, 26, 27, 28, 29, 30, 31,\n",
              "        32, 33, 34, 35, 36, 37, 38, 39, 40, 41, 42, 43, 44, 45, 46, 47],\n",
              "       [48, 49, 50, 51, 52, 53, 54, 55, 56, 57, 58, 59, 60, 61, 62, 63,\n",
              "        64, 65, 66, 67, 68, 69, 70, 71, 72, 73, 74, 75, 76, 77, 78, 79,\n",
              "        80, 81, 82, 83, 84, 85, 86, 87, 88, 89, 90, 91, 92, 93, 94, 95]],\n",
              "      dtype=int32)>"
            ]
          },
          "metadata": {
            "tags": []
          },
          "execution_count": 118
        }
      ]
    },
    {
      "cell_type": "code",
      "metadata": {
        "colab": {
          "base_uri": "https://localhost:8080/"
        },
        "id": "xweEslPk1cpx",
        "outputId": "e3957879-fcb5-4bf3-bb73-836dbdf8749a"
      },
      "source": [
        "tf.reshape(x,[2,4,-1])"
      ],
      "execution_count": null,
      "outputs": [
        {
          "output_type": "execute_result",
          "data": {
            "text/plain": [
              "<tf.Tensor: shape=(2, 4, 12), dtype=int32, numpy=\n",
              "array([[[ 0,  1,  2,  3,  4,  5,  6,  7,  8,  9, 10, 11],\n",
              "        [12, 13, 14, 15, 16, 17, 18, 19, 20, 21, 22, 23],\n",
              "        [24, 25, 26, 27, 28, 29, 30, 31, 32, 33, 34, 35],\n",
              "        [36, 37, 38, 39, 40, 41, 42, 43, 44, 45, 46, 47]],\n",
              "\n",
              "       [[48, 49, 50, 51, 52, 53, 54, 55, 56, 57, 58, 59],\n",
              "        [60, 61, 62, 63, 64, 65, 66, 67, 68, 69, 70, 71],\n",
              "        [72, 73, 74, 75, 76, 77, 78, 79, 80, 81, 82, 83],\n",
              "        [84, 85, 86, 87, 88, 89, 90, 91, 92, 93, 94, 95]]], dtype=int32)>"
            ]
          },
          "metadata": {
            "tags": []
          },
          "execution_count": 119
        }
      ]
    },
    {
      "cell_type": "code",
      "metadata": {
        "colab": {
          "base_uri": "https://localhost:8080/"
        },
        "id": "LipSphf512Sg",
        "outputId": "9f9369ec-4970-4ee7-e44e-488376350dba"
      },
      "source": [
        "tf.reshape(x,[2,-1,3])"
      ],
      "execution_count": null,
      "outputs": [
        {
          "output_type": "execute_result",
          "data": {
            "text/plain": [
              "<tf.Tensor: shape=(2, 16, 3), dtype=int32, numpy=\n",
              "array([[[ 0,  1,  2],\n",
              "        [ 3,  4,  5],\n",
              "        [ 6,  7,  8],\n",
              "        [ 9, 10, 11],\n",
              "        [12, 13, 14],\n",
              "        [15, 16, 17],\n",
              "        [18, 19, 20],\n",
              "        [21, 22, 23],\n",
              "        [24, 25, 26],\n",
              "        [27, 28, 29],\n",
              "        [30, 31, 32],\n",
              "        [33, 34, 35],\n",
              "        [36, 37, 38],\n",
              "        [39, 40, 41],\n",
              "        [42, 43, 44],\n",
              "        [45, 46, 47]],\n",
              "\n",
              "       [[48, 49, 50],\n",
              "        [51, 52, 53],\n",
              "        [54, 55, 56],\n",
              "        [57, 58, 59],\n",
              "        [60, 61, 62],\n",
              "        [63, 64, 65],\n",
              "        [66, 67, 68],\n",
              "        [69, 70, 71],\n",
              "        [72, 73, 74],\n",
              "        [75, 76, 77],\n",
              "        [78, 79, 80],\n",
              "        [81, 82, 83],\n",
              "        [84, 85, 86],\n",
              "        [87, 88, 89],\n",
              "        [90, 91, 92],\n",
              "        [93, 94, 95]]], dtype=int32)>"
            ]
          },
          "metadata": {
            "tags": []
          },
          "execution_count": 120
        }
      ]
    },
    {
      "cell_type": "code",
      "metadata": {
        "id": "FfMoJ8442EgA"
      },
      "source": [
        "x=tf.random.uniform([28,28],maxval=10,dtype=tf.int32)"
      ],
      "execution_count": null,
      "outputs": []
    },
    {
      "cell_type": "code",
      "metadata": {
        "colab": {
          "base_uri": "https://localhost:8080/"
        },
        "id": "BjNfAWyx3nH2",
        "outputId": "2189e478-9a25-4417-e6a9-d4b12e3e74a2"
      },
      "source": [
        "x"
      ],
      "execution_count": null,
      "outputs": [
        {
          "output_type": "execute_result",
          "data": {
            "text/plain": [
              "<tf.Tensor: shape=(28, 28), dtype=int32, numpy=\n",
              "array([[4, 2, 6, 9, 5, 3, 0, 7, 8, 8, 6, 2, 0, 3, 5, 7, 0, 0, 9, 5, 3, 6,\n",
              "        2, 8, 7, 8, 0, 6],\n",
              "       [8, 4, 8, 4, 3, 4, 5, 7, 7, 8, 0, 4, 6, 9, 9, 0, 1, 4, 2, 8, 0, 9,\n",
              "        4, 6, 3, 9, 6, 6],\n",
              "       [0, 4, 0, 7, 6, 5, 0, 9, 0, 9, 4, 9, 5, 7, 0, 5, 8, 1, 6, 6, 8, 7,\n",
              "        0, 6, 8, 8, 8, 1],\n",
              "       [0, 0, 9, 0, 8, 2, 1, 1, 4, 0, 7, 3, 1, 0, 1, 3, 0, 5, 3, 9, 4, 8,\n",
              "        2, 4, 1, 6, 4, 1],\n",
              "       [4, 7, 6, 0, 1, 5, 0, 1, 1, 8, 4, 3, 3, 4, 5, 0, 1, 1, 4, 5, 5, 5,\n",
              "        6, 0, 1, 9, 0, 3],\n",
              "       [7, 4, 2, 8, 7, 4, 3, 9, 7, 9, 1, 0, 7, 9, 9, 6, 8, 0, 2, 0, 4, 6,\n",
              "        0, 6, 4, 8, 8, 4],\n",
              "       [3, 3, 1, 5, 9, 3, 2, 8, 4, 1, 0, 5, 9, 0, 8, 5, 3, 3, 9, 1, 5, 1,\n",
              "        1, 6, 2, 5, 7, 3],\n",
              "       [7, 5, 2, 2, 6, 9, 0, 4, 8, 2, 3, 1, 1, 0, 7, 3, 9, 6, 0, 7, 1, 6,\n",
              "        7, 2, 9, 8, 3, 7],\n",
              "       [9, 0, 6, 9, 6, 1, 8, 4, 5, 9, 9, 0, 2, 4, 8, 1, 5, 3, 6, 6, 1, 1,\n",
              "        7, 5, 9, 7, 8, 6],\n",
              "       [6, 0, 7, 4, 2, 5, 8, 0, 3, 8, 4, 0, 5, 6, 4, 7, 6, 3, 0, 9, 2, 7,\n",
              "        7, 6, 1, 8, 2, 5],\n",
              "       [4, 2, 2, 5, 7, 8, 1, 2, 5, 8, 1, 8, 1, 9, 2, 1, 7, 4, 4, 0, 2, 1,\n",
              "        2, 7, 0, 7, 0, 0],\n",
              "       [0, 6, 7, 9, 3, 8, 3, 7, 2, 3, 7, 2, 7, 8, 0, 2, 6, 7, 0, 8, 6, 7,\n",
              "        3, 9, 6, 5, 3, 4],\n",
              "       [2, 5, 8, 7, 5, 4, 5, 5, 6, 8, 3, 0, 8, 6, 6, 4, 8, 3, 5, 8, 2, 3,\n",
              "        3, 1, 5, 9, 0, 6],\n",
              "       [0, 7, 9, 0, 1, 1, 2, 9, 8, 4, 5, 9, 7, 2, 1, 4, 7, 5, 9, 4, 2, 1,\n",
              "        5, 9, 8, 4, 2, 7],\n",
              "       [0, 6, 8, 1, 4, 2, 7, 0, 3, 2, 5, 4, 2, 7, 3, 5, 9, 6, 5, 5, 3, 5,\n",
              "        7, 9, 7, 5, 0, 7],\n",
              "       [9, 3, 0, 6, 5, 0, 8, 9, 9, 1, 9, 8, 8, 4, 5, 3, 4, 3, 5, 1, 5, 9,\n",
              "        0, 2, 8, 6, 4, 2],\n",
              "       [6, 7, 4, 6, 6, 5, 9, 8, 0, 2, 6, 5, 6, 4, 5, 9, 0, 9, 0, 4, 1, 1,\n",
              "        8, 7, 6, 9, 8, 0],\n",
              "       [3, 7, 2, 6, 8, 8, 2, 4, 8, 3, 2, 9, 5, 3, 7, 0, 3, 9, 8, 0, 6, 9,\n",
              "        9, 8, 3, 0, 7, 1],\n",
              "       [6, 6, 9, 3, 6, 0, 4, 2, 5, 9, 1, 6, 1, 2, 5, 6, 9, 1, 6, 3, 4, 6,\n",
              "        8, 0, 5, 1, 8, 5],\n",
              "       [3, 3, 3, 2, 3, 3, 3, 5, 0, 1, 6, 8, 7, 9, 9, 9, 1, 0, 7, 5, 0, 9,\n",
              "        2, 7, 5, 4, 2, 5],\n",
              "       [1, 0, 0, 9, 1, 7, 9, 0, 1, 2, 1, 4, 9, 0, 8, 4, 9, 9, 1, 4, 0, 2,\n",
              "        6, 7, 6, 9, 1, 1],\n",
              "       [7, 1, 2, 2, 0, 5, 2, 6, 6, 7, 2, 6, 7, 2, 5, 5, 0, 6, 1, 2, 9, 1,\n",
              "        9, 2, 2, 1, 8, 4],\n",
              "       [1, 4, 2, 0, 8, 6, 6, 2, 4, 7, 2, 2, 7, 4, 7, 5, 2, 9, 8, 5, 6, 7,\n",
              "        1, 7, 0, 2, 4, 2],\n",
              "       [7, 5, 2, 8, 8, 2, 2, 1, 1, 7, 7, 7, 1, 0, 7, 8, 1, 2, 2, 1, 4, 2,\n",
              "        8, 2, 2, 6, 9, 3],\n",
              "       [7, 0, 0, 3, 8, 6, 5, 3, 7, 2, 6, 2, 4, 5, 8, 9, 0, 3, 2, 9, 2, 8,\n",
              "        2, 5, 7, 6, 4, 4],\n",
              "       [2, 1, 4, 9, 7, 6, 9, 5, 9, 7, 2, 6, 9, 5, 6, 0, 5, 6, 2, 5, 4, 9,\n",
              "        2, 8, 5, 4, 0, 1],\n",
              "       [9, 6, 7, 2, 5, 4, 9, 1, 4, 0, 5, 1, 4, 5, 9, 0, 1, 6, 5, 8, 2, 3,\n",
              "        1, 4, 5, 9, 7, 4],\n",
              "       [1, 1, 8, 4, 6, 0, 2, 3, 3, 1, 6, 3, 7, 6, 2, 9, 1, 4, 0, 3, 2, 2,\n",
              "        5, 7, 4, 1, 0, 4]], dtype=int32)>"
            ]
          },
          "metadata": {
            "tags": []
          },
          "execution_count": 122
        }
      ]
    },
    {
      "cell_type": "code",
      "metadata": {
        "id": "Wylr_B8C3s1i"
      },
      "source": [
        "x=tf.expand_dims(x,axis=1)"
      ],
      "execution_count": null,
      "outputs": []
    },
    {
      "cell_type": "code",
      "metadata": {
        "colab": {
          "base_uri": "https://localhost:8080/"
        },
        "id": "LOMMpdkh3-17",
        "outputId": "f04bab39-c882-4a41-d769-ecf9c9bc041d"
      },
      "source": [
        "print(x.shape)"
      ],
      "execution_count": null,
      "outputs": [
        {
          "output_type": "stream",
          "text": [
            "(28, 28)\n"
          ],
          "name": "stdout"
        }
      ]
    },
    {
      "cell_type": "code",
      "metadata": {
        "id": "4mfWbg5Y3_WI"
      },
      "source": [
        "x=tf.squeeze(x,axis=-1)"
      ],
      "execution_count": null,
      "outputs": []
    },
    {
      "cell_type": "code",
      "metadata": {
        "id": "etVw3lsy5ZsW"
      },
      "source": [
        "x=tf.random.normal([2,32,32,3])"
      ],
      "execution_count": null,
      "outputs": []
    },
    {
      "cell_type": "code",
      "metadata": {
        "colab": {
          "base_uri": "https://localhost:8080/"
        },
        "id": "ebo3FFjr-RyC",
        "outputId": "50da88cd-94a9-4865-ffef-bb79c7b4e2e8"
      },
      "source": [
        "tf.transpose(x,perm=[0,3,1,2])"
      ],
      "execution_count": null,
      "outputs": [
        {
          "output_type": "execute_result",
          "data": {
            "text/plain": [
              "<tf.Tensor: shape=(2, 3, 32, 32), dtype=float32, numpy=\n",
              "array([[[[-1.7072102 , -1.5876163 , -1.6316879 , ...,  0.91721195,\n",
              "          -3.5484471 ,  0.61443174],\n",
              "         [ 0.16777705, -2.2776563 , -1.7677872 , ...,  0.8422285 ,\n",
              "          -0.3439279 , -1.805317  ],\n",
              "         [ 0.03265829, -1.9781032 , -0.93792564, ...,  0.44051397,\n",
              "          -0.62722963,  1.0293959 ],\n",
              "         ...,\n",
              "         [ 0.35546738,  0.26608878, -0.62770677, ...,  1.6401595 ,\n",
              "           0.93484765, -1.089647  ],\n",
              "         [-1.0111406 , -1.3078455 , -1.8999684 , ..., -0.2845574 ,\n",
              "           0.52947295,  1.3535995 ],\n",
              "         [ 1.7796613 ,  0.04756573, -1.6399602 , ...,  0.9284565 ,\n",
              "          -0.6998331 ,  2.0662105 ]],\n",
              "\n",
              "        [[ 0.99437696, -2.0617273 , -1.3504783 , ..., -0.41868478,\n",
              "           0.05891861, -0.45127887],\n",
              "         [-1.0253081 ,  1.1962854 , -1.5994718 , ..., -0.47898218,\n",
              "           0.45689481, -0.24723117],\n",
              "         [ 0.10302072, -1.7915843 ,  0.23674344, ..., -0.18196276,\n",
              "           0.29916683, -1.6782954 ],\n",
              "         ...,\n",
              "         [-0.39197534,  0.19981036,  0.5317621 , ..., -0.9321578 ,\n",
              "           0.9620782 , -0.24956529],\n",
              "         [-1.5921341 ,  0.757024  ,  0.62876016, ..., -0.54226637,\n",
              "          -0.55743563,  0.6490074 ],\n",
              "         [-1.1490291 ,  1.0647328 ,  0.97969115, ..., -0.20916034,\n",
              "           1.0756836 ,  0.08026471]],\n",
              "\n",
              "        [[-1.65468   , -0.86786747,  0.15904796, ...,  0.19564   ,\n",
              "           0.02880679, -0.17178756],\n",
              "         [ 1.0117375 , -0.9334418 , -0.62617314, ..., -1.6228354 ,\n",
              "          -0.47263926,  1.01295   ],\n",
              "         [ 0.39120996, -1.3535858 ,  0.1966841 , ..., -0.9896318 ,\n",
              "           0.8884782 , -0.47414148],\n",
              "         ...,\n",
              "         [ 2.9694738 , -0.42152604, -0.62008524, ..., -1.6834407 ,\n",
              "           0.34372535, -0.38011   ],\n",
              "         [-1.0812757 ,  0.38107803, -0.17808037, ..., -1.4170871 ,\n",
              "          -1.4210413 ,  0.40944728],\n",
              "         [ 0.6912835 ,  0.18352899, -1.7554642 , ..., -1.2748753 ,\n",
              "          -0.9526245 , -0.53028643]]],\n",
              "\n",
              "\n",
              "       [[[-0.49845967,  0.02084167,  0.906082  , ..., -0.03348143,\n",
              "          -1.4835361 , -0.43239468],\n",
              "         [ 0.5580279 ,  0.41026226,  1.7029728 , ..., -2.2471452 ,\n",
              "          -2.1428938 , -0.3501145 ],\n",
              "         [-1.0273311 , -0.5750784 ,  0.40360546, ...,  0.22433922,\n",
              "           0.44318047, -1.110969  ],\n",
              "         ...,\n",
              "         [ 1.9761771 ,  1.6499858 ,  0.15161563, ..., -0.6227352 ,\n",
              "          -0.6731333 , -0.5478185 ],\n",
              "         [-0.305352  ,  0.5231869 , -0.506117  , ..., -1.9159228 ,\n",
              "          -0.83161575,  2.6038358 ],\n",
              "         [-1.2587285 , -0.2866232 , -0.53793967, ..., -0.8321183 ,\n",
              "          -0.78561044, -0.8423756 ]],\n",
              "\n",
              "        [[ 0.53178185,  0.49393648,  0.4144702 , ..., -0.8170091 ,\n",
              "           2.4150288 ,  0.7102324 ],\n",
              "         [-0.15552875,  0.675915  , -0.93779004, ...,  0.24489957,\n",
              "           0.5657991 , -0.57517755],\n",
              "         [-0.3195416 ,  1.5443778 ,  0.11761616, ...,  1.0988188 ,\n",
              "           1.0272429 , -1.0211811 ],\n",
              "         ...,\n",
              "         [ 1.0255713 , -0.7913245 ,  2.0602407 , ..., -0.10532379,\n",
              "           0.7693375 , -1.5428634 ],\n",
              "         [-0.18835981,  0.36649475, -0.43130508, ..., -0.34352386,\n",
              "           0.34571058,  0.3029279 ],\n",
              "         [ 0.21987577,  2.8270814 ,  0.00478352, ..., -2.0660634 ,\n",
              "          -0.29346246,  1.0735031 ]],\n",
              "\n",
              "        [[-0.2966569 ,  0.19682452,  0.11278944, ...,  0.10077469,\n",
              "           0.865995  ,  0.5934467 ],\n",
              "         [ 0.4748739 , -0.86775357,  0.17828278, ..., -0.00886204,\n",
              "          -0.10645012, -0.9814629 ],\n",
              "         [ 0.38344187, -0.9364049 ,  0.08518893, ..., -0.7587855 ,\n",
              "          -1.4558152 , -0.13390578],\n",
              "         ...,\n",
              "         [ 0.8446729 , -0.35472116,  0.07652657, ..., -0.5384356 ,\n",
              "          -1.0346475 , -0.81303144],\n",
              "         [ 1.2356503 , -1.200418  , -0.3252734 , ...,  0.8086076 ,\n",
              "          -0.15917131,  0.92170894],\n",
              "         [-0.10407397, -0.23885949,  1.9900713 , ..., -0.43491942,\n",
              "           0.86626333,  0.3422124 ]]]], dtype=float32)>"
            ]
          },
          "metadata": {
            "tags": []
          },
          "execution_count": 144
        }
      ]
    },
    {
      "cell_type": "code",
      "metadata": {
        "id": "BrojJukl-aEr"
      },
      "source": [
        "b=tf.constant([1,2])\n"
      ],
      "execution_count": null,
      "outputs": []
    },
    {
      "cell_type": "code",
      "metadata": {
        "colab": {
          "base_uri": "https://localhost:8080/"
        },
        "id": "LeIPG0Jl_3Bh",
        "outputId": "069c3643-d8b5-4b5e-f960-832d633b9929"
      },
      "source": [
        "b"
      ],
      "execution_count": null,
      "outputs": [
        {
          "output_type": "execute_result",
          "data": {
            "text/plain": [
              "<tf.Tensor: shape=(2,), dtype=int32, numpy=array([1, 2], dtype=int32)>"
            ]
          },
          "metadata": {
            "tags": []
          },
          "execution_count": 146
        }
      ]
    },
    {
      "cell_type": "code",
      "metadata": {
        "id": "785jSNK1_36Z"
      },
      "source": [
        "b=tf.expand_dims(b,axis=0)"
      ],
      "execution_count": null,
      "outputs": []
    },
    {
      "cell_type": "code",
      "metadata": {
        "colab": {
          "base_uri": "https://localhost:8080/"
        },
        "id": "HOOrQ1Jj_-3Q",
        "outputId": "b4df1553-fabf-46c0-b519-fcf119475e67"
      },
      "source": [
        "b"
      ],
      "execution_count": null,
      "outputs": [
        {
          "output_type": "execute_result",
          "data": {
            "text/plain": [
              "<tf.Tensor: shape=(1, 2), dtype=int32, numpy=array([[1, 2]], dtype=int32)>"
            ]
          },
          "metadata": {
            "tags": []
          },
          "execution_count": 148
        }
      ]
    },
    {
      "cell_type": "code",
      "metadata": {
        "id": "AIiEAzSgAFTB"
      },
      "source": [
        "b=tf.tile(b,multiples=[2,1])"
      ],
      "execution_count": null,
      "outputs": []
    },
    {
      "cell_type": "code",
      "metadata": {
        "colab": {
          "base_uri": "https://localhost:8080/"
        },
        "id": "fW39ICB_Af0I",
        "outputId": "0ffb3915-6682-4495-da20-69b4bd6675e5"
      },
      "source": [
        "b"
      ],
      "execution_count": null,
      "outputs": [
        {
          "output_type": "execute_result",
          "data": {
            "text/plain": [
              "<tf.Tensor: shape=(2, 2), dtype=int32, numpy=\n",
              "array([[1, 2],\n",
              "       [1, 2]], dtype=int32)>"
            ]
          },
          "metadata": {
            "tags": []
          },
          "execution_count": 151
        }
      ]
    },
    {
      "cell_type": "code",
      "metadata": {
        "id": "W1oEani8Amhp"
      },
      "source": [
        "a=tf.random.normal([2,32,32,1])"
      ],
      "execution_count": null,
      "outputs": []
    },
    {
      "cell_type": "code",
      "metadata": {
        "id": "uZwdyOfbFgNt"
      },
      "source": [
        "b=tf.random.normal([32,32])"
      ],
      "execution_count": null,
      "outputs": []
    },
    {
      "cell_type": "code",
      "metadata": {
        "colab": {
          "base_uri": "https://localhost:8080/"
        },
        "id": "NtzVP7QKFkpz",
        "outputId": "592d2890-e35d-47c9-c115-1add443a8349"
      },
      "source": [
        "a+b,a-b,a*b,a/b"
      ],
      "execution_count": null,
      "outputs": [
        {
          "output_type": "execute_result",
          "data": {
            "text/plain": [
              "(<tf.Tensor: shape=(2, 32, 32, 32), dtype=float32, numpy=\n",
              " array([[[[ 1.0831228 ,  0.2898424 ,  0.7922208 , ...,  1.5157006 ,\n",
              "           -1.5810535 , -0.3242902 ],\n",
              "          [ 0.12577415, -3.5538416 , -2.3348489 , ..., -2.5630035 ,\n",
              "           -3.1643782 , -3.139038  ],\n",
              "          [ 0.4031158 ,  1.2440271 , -0.97776055, ...,  1.6443034 ,\n",
              "            0.09042352, -1.853929  ],\n",
              "          ...,\n",
              "          [-0.83983856,  0.58857834, -0.98153776, ...,  0.8090176 ,\n",
              "           -0.5841274 ,  0.8814333 ],\n",
              "          [ 2.581013  ,  2.5590954 ,  2.0376956 , ...,  1.6205969 ,\n",
              "            1.6333058 ,  1.7841972 ],\n",
              "          [ 1.4167433 , -1.3915906 , -0.11460641, ..., -0.17803106,\n",
              "            0.3256532 , -0.6799959 ]],\n",
              " \n",
              "         [[ 1.4776047 ,  0.6843243 ,  1.1867027 , ...,  1.9101825 ,\n",
              "           -1.1865716 ,  0.07019174],\n",
              "          [ 2.8637094 , -0.81590617,  0.4030864 , ...,  0.17493166,\n",
              "           -0.42644283, -0.40110275],\n",
              "          [ 2.1839807 ,  3.0248919 ,  0.80310434, ...,  3.4251683 ,\n",
              "            1.8712884 , -0.07306421],\n",
              "          ...,\n",
              "          [-1.7949231 , -0.3665061 , -1.9366221 , ..., -0.14606684,\n",
              "           -1.5392119 , -0.07365113],\n",
              "          [-0.29182327, -0.31374085, -0.83514065, ..., -1.2522393 ,\n",
              "           -1.2395304 , -1.088639  ],\n",
              "          [ 3.0529447 ,  0.2446109 ,  1.5215951 , ...,  1.4581704 ,\n",
              "            1.9618547 ,  0.9562056 ]],\n",
              " \n",
              "         [[-0.05214071, -0.84542114, -0.34304276, ...,  0.38043702,\n",
              "           -2.7163172 , -1.4595537 ],\n",
              "          [ 3.2807415 , -0.39887416,  0.8201184 , ...,  0.5919637 ,\n",
              "           -0.0094108 ,  0.01592928],\n",
              "          [ 1.0257955 ,  1.8667066 , -0.35508096, ...,  2.266983  ,\n",
              "            0.7131031 , -1.2312496 ],\n",
              "          ...,\n",
              "          [-0.2983054 ,  1.1301115 , -0.4400046 , ...,  1.3505508 ,\n",
              "           -0.04259425,  1.4229665 ],\n",
              "          [ 0.23201406,  0.21009648, -0.31130332, ..., -0.728402  ,\n",
              "           -0.7156932 , -0.5648017 ],\n",
              "          [ 1.2068417 , -1.6014922 , -0.32450804, ..., -0.3879327 ,\n",
              "            0.11575156, -0.8898975 ]],\n",
              " \n",
              "         ...,\n",
              " \n",
              "         [[ 2.0717134 ,  1.2784328 ,  1.7808113 , ...,  2.504291  ,\n",
              "           -0.592463  ,  0.6643003 ],\n",
              "          [ 1.679831  , -1.9997847 , -0.78079206, ..., -1.0089468 ,\n",
              "           -1.6103213 , -1.5849812 ],\n",
              "          [ 2.6999135 ,  3.540825  ,  1.3190372 , ...,  3.941101  ,\n",
              "            2.3872213 ,  0.4428687 ],\n",
              "          ...,\n",
              "          [-1.3442574 ,  0.08415949, -1.4859567 , ...,  0.30459875,\n",
              "           -1.0885463 ,  0.37701446],\n",
              "          [ 0.96630067,  0.9443831 ,  0.4229833 , ...,  0.00588457,\n",
              "            0.01859343,  0.1694849 ],\n",
              "          [ 3.0193396 ,  0.2110058 ,  1.48799   , ...,  1.4245653 ,\n",
              "            1.9282496 ,  0.9226005 ]],\n",
              " \n",
              "         [[ 2.4008217 ,  1.6075413 ,  2.1099198 , ...,  2.8333995 ,\n",
              "           -0.26335454,  0.9934088 ],\n",
              "          [ 1.8149611 , -1.8646545 , -0.64566195, ..., -0.87381667,\n",
              "           -1.4751911 , -1.449851  ],\n",
              "          [ 1.5322328 ,  2.3731441 ,  0.15135646, ...,  2.7734203 ,\n",
              "            1.2195405 , -0.7248121 ],\n",
              "          ...,\n",
              "          [ 0.66179603,  2.0902128 ,  0.52009684, ...,  2.3106523 ,\n",
              "            0.9175072 ,  2.3830678 ],\n",
              "          [-0.05119491, -0.07311249, -0.5945123 , ..., -1.011611  ,\n",
              "           -0.99890214, -0.84801066],\n",
              "          [ 0.4520359 , -2.356298  , -1.0793138 , ..., -1.1427385 ,\n",
              "           -0.6390542 , -1.6447033 ]],\n",
              " \n",
              "         [[-0.33973908, -1.1330194 , -0.6306411 , ...,  0.09283864,\n",
              "           -3.0039153 , -1.7471521 ],\n",
              "          [ 1.356088  , -2.3235276 , -1.104535  , ..., -1.3326898 ,\n",
              "           -1.9340641 , -1.9087241 ],\n",
              "          [ 0.29384106,  1.1347524 , -1.0870353 , ...,  1.5350287 ,\n",
              "           -0.01885122, -1.9632038 ],\n",
              "          ...,\n",
              "          [-0.14195651,  1.2864604 , -0.2836557 , ...,  1.5068996 ,\n",
              "            0.11375463,  1.5793154 ],\n",
              "          [-0.6023207 , -0.62423825, -1.145638  , ..., -1.5627367 ,\n",
              "           -1.5500278 , -1.3991364 ],\n",
              "          [ 2.6917038 , -0.11662996,  1.1603543 , ...,  1.0969296 ,\n",
              "            1.6006138 ,  0.59496474]]],\n",
              " \n",
              " \n",
              "        [[[ 1.458339  ,  0.6650586 ,  1.167437  , ...,  1.8909168 ,\n",
              "           -1.2058372 ,  0.05092603],\n",
              "          [ 2.2199492 , -1.4596663 , -0.24067366, ..., -0.46882838,\n",
              "           -1.0702028 , -1.0448627 ],\n",
              "          [ 0.34787828,  1.1887895 , -1.0329981 , ...,  1.5890658 ,\n",
              "            0.03518596, -1.9091667 ],\n",
              "          ...,\n",
              "          [-2.4003484 , -0.9719316 , -2.5420477 , ..., -0.7514923 ,\n",
              "           -2.1446373 , -0.6790766 ],\n",
              "          [ 2.3476787 ,  2.3257608 ,  1.8043611 , ...,  1.3872625 ,\n",
              "            1.3999714 ,  1.5508628 ],\n",
              "          [ 1.5119911 , -1.2963427 , -0.01935852, ..., -0.08278316,\n",
              "            0.4209011 , -0.584748  ]],\n",
              " \n",
              "         [[-0.34287846, -1.136159  , -0.6337805 , ...,  0.08969927,\n",
              "           -3.0070548 , -1.7502915 ],\n",
              "          [ 3.9949307 ,  0.315315  ,  1.5343076 , ...,  1.3061528 ,\n",
              "            0.7047784 ,  0.73011845],\n",
              "          [ 0.76496565,  1.6058769 , -0.6159107 , ...,  2.006153  ,\n",
              "            0.45227334, -1.4920793 ],\n",
              "          ...,\n",
              "          [-0.8855231 ,  0.54289377, -1.0272223 , ...,  0.7633331 ,\n",
              "           -0.629812  ,  0.8357488 ],\n",
              "          [ 1.022729  ,  1.0008115 ,  0.47941166, ...,  0.06231297,\n",
              "            0.07502183,  0.22591329],\n",
              "          [ 2.3802211 , -0.42811283,  0.84887135, ...,  0.7854467 ,\n",
              "            1.2891309 ,  0.28348184]],\n",
              " \n",
              "         [[ 0.5598975 , -0.23338293,  0.26899543, ...,  0.9924752 ,\n",
              "           -2.1042788 , -0.8475155 ],\n",
              "          [ 3.3758597 , -0.30375594,  0.91523665, ...,  0.68708193,\n",
              "            0.08570743,  0.11104751],\n",
              "          [ 1.2972063 ,  2.1381176 , -0.08367008, ...,  2.538394  ,\n",
              "            0.984514  , -0.9598386 ],\n",
              "          ...,\n",
              "          [-1.3009286 ,  0.12748832, -1.4426278 , ...,  0.34792757,\n",
              "           -1.0452175 ,  0.42034328],\n",
              "          [ 1.3736727 ,  1.3517551 ,  0.8303553 , ...,  0.4132566 ,\n",
              "            0.42596543,  0.5768569 ],\n",
              "          [ 2.8734407 ,  0.06510693,  1.3420911 , ...,  1.2786665 ,\n",
              "            1.7823508 ,  0.7767016 ]],\n",
              " \n",
              "         ...,\n",
              " \n",
              "         [[-0.80604076, -1.5993211 , -1.0969428 , ..., -0.37346303,\n",
              "           -3.4702172 , -2.2134538 ],\n",
              "          [ 0.9254278 , -2.7541878 , -1.5351952 , ..., -1.76335   ,\n",
              "           -2.3647244 , -2.3393843 ],\n",
              "          [ 0.12210244,  0.9630137 , -1.2587739 , ...,  1.3632901 ,\n",
              "           -0.19058986, -2.1349425 ],\n",
              "          ...,\n",
              "          [ 1.1730428 ,  2.6014595 ,  1.0313435 , ...,  2.821899  ,\n",
              "            1.4287539 ,  2.8943145 ],\n",
              "          [ 1.098947  ,  1.0770295 ,  0.5556296 , ...,  0.13853091,\n",
              "            0.15123977,  0.30213124],\n",
              "          [ 2.6641324 , -0.14420158,  1.1327826 , ...,  1.069358  ,\n",
              "            1.5730422 ,  0.5673931 ]],\n",
              " \n",
              "         [[ 0.42945564, -0.36382478,  0.13855359, ...,  0.86203337,\n",
              "           -2.2347207 , -0.97795737],\n",
              "          [ 1.943275  , -1.7363405 , -0.517348  , ..., -0.7455027 ,\n",
              "           -1.3468772 , -1.3215371 ],\n",
              "          [ 0.5974465 ,  1.4383577 , -0.78342986, ...,  1.838634  ,\n",
              "            0.2847542 , -1.6595985 ],\n",
              "          ...,\n",
              "          [-1.7908947 , -0.3624779 , -1.9325941 , ..., -0.14203864,\n",
              "           -1.5351837 , -0.06962293],\n",
              "          [ 0.87187   ,  0.8499524 ,  0.3285526 , ..., -0.0885461 ,\n",
              "           -0.07583724,  0.07505423],\n",
              "          [ 1.1637099 , -1.644624  , -0.3676398 , ..., -0.43106446,\n",
              "            0.0726198 , -0.9330293 ]],\n",
              " \n",
              "         [[ 1.2617438 ,  0.46846342,  0.97084177, ...,  1.6943216 ,\n",
              "           -1.4024324 , -0.14566916],\n",
              "          [ 1.3032358 , -2.37638   , -1.1573873 , ..., -1.385542  ,\n",
              "           -1.9869165 , -1.9615765 ],\n",
              "          [ 1.2897469 ,  2.1306581 , -0.09112948, ...,  2.5309343 ,\n",
              "            0.9770546 , -0.96729803],\n",
              "          ...,\n",
              "          [-1.1844375 ,  0.24397933, -1.3261368 , ...,  0.4644186 ,\n",
              "           -0.92872643,  0.5368343 ],\n",
              "          [ 2.134057  ,  2.1121397 ,  1.5907397 , ...,  1.1736411 ,\n",
              "            1.18635   ,  1.3372414 ],\n",
              "          [ 3.196525  ,  0.38819122,  1.6651754 , ...,  1.6017507 ,\n",
              "            2.105435  ,  1.0997859 ]]]], dtype=float32)>,\n",
              " <tf.Tensor: shape=(2, 32, 32, 32), dtype=float32, numpy=\n",
              " array([[[[-1.3249794e-01,  6.6078246e-01,  1.5840411e-01, ...,\n",
              "           -5.6507564e-01,  2.5316784e+00,  1.2749151e+00],\n",
              "          [-4.8790007e+00, -1.1993848e+00, -2.4183774e+00, ...,\n",
              "           -2.1902227e+00, -1.5888481e+00, -1.6141882e+00],\n",
              "          [-6.7323750e-01, -1.5141487e+00,  7.0763886e-01, ...,\n",
              "           -1.9144250e+00, -3.6054519e-01,  1.5838075e+00],\n",
              "          ...,\n",
              "          [ 7.1457702e-01, -7.1383989e-01,  8.5627621e-01, ...,\n",
              "           -9.3427914e-01,  4.5886588e-01, -1.0066948e+00],\n",
              "          [ 3.4016776e-01,  3.6208534e-01,  8.8348514e-01, ...,\n",
              "            1.3005838e+00,  1.2878749e+00,  1.1369835e+00],\n",
              "          [-2.5243053e+00,  2.8402853e-01, -9.9295568e-01, ...,\n",
              "           -9.2953098e-01, -1.4332153e+00, -4.2756617e-01]],\n",
              " \n",
              "         [[ 2.6198399e-01,  1.0552645e+00,  5.5288601e-01, ...,\n",
              "           -1.7059374e-01,  2.9261603e+00,  1.6693970e+00],\n",
              "          [-2.1410651e+00,  1.5385505e+00,  3.1955788e-01, ...,\n",
              "            5.4771262e-01,  1.1490871e+00,  1.1237470e+00],\n",
              "          [ 1.1076274e+00,  2.6671612e-01,  2.4885037e+00, ...,\n",
              "           -1.3356018e-01,  1.4203197e+00,  3.3646722e+00],\n",
              "          ...,\n",
              "          [-2.4050742e-01, -1.6689243e+00, -9.8808229e-02, ...,\n",
              "           -1.8893635e+00, -4.9621856e-01, -1.9617794e+00],\n",
              "          [-2.5326686e+00, -2.5107508e+00, -1.9893510e+00, ...,\n",
              "           -1.5722524e+00, -1.5849613e+00, -1.7358527e+00],\n",
              "          [-8.8810384e-01,  1.9202300e+00,  6.4324582e-01, ...,\n",
              "            7.0667052e-01,  2.0298624e-01,  1.2086353e+00]],\n",
              " \n",
              "         [[-1.2677615e+00, -4.7448105e-01, -9.7685945e-01, ...,\n",
              "           -1.7003392e+00,  1.3964149e+00,  1.3965154e-01],\n",
              "          [-1.7240331e+00,  1.9555825e+00,  7.3658991e-01, ...,\n",
              "            9.6474463e-01,  1.5661192e+00,  1.5407791e+00],\n",
              "          [-5.0557911e-02, -8.9146918e-01,  1.3303185e+00, ...,\n",
              "           -1.2917454e+00,  2.6213437e-01,  2.2064869e+00],\n",
              "          ...,\n",
              "          [ 1.2561102e+00, -1.7230672e-01,  1.3978094e+00, ...,\n",
              "           -3.9274597e-01,  1.0003991e+00, -4.6516168e-01],\n",
              "          [-2.0088310e+00, -1.9869136e+00, -1.4655137e+00, ...,\n",
              "           -1.0484151e+00, -1.0611240e+00, -1.2120154e+00],\n",
              "          [-2.7342069e+00,  7.4126899e-02, -1.2028573e+00, ...,\n",
              "           -1.1394327e+00, -1.6431170e+00, -6.3746780e-01]],\n",
              " \n",
              "         ...,\n",
              " \n",
              "         [[ 8.5609257e-01,  1.6493731e+00,  1.1469946e+00, ...,\n",
              "            4.2351484e-01,  3.5202689e+00,  2.2635055e+00],\n",
              "          [-3.3249435e+00,  3.5467201e-01, -8.6432058e-01, ...,\n",
              "           -6.3616586e-01, -3.4791350e-02, -6.0131431e-02],\n",
              "          [ 1.6235603e+00,  7.8264904e-01,  3.0044367e+00, ...,\n",
              "            3.8237274e-01,  1.9362526e+00,  3.8806052e+00],\n",
              "          ...,\n",
              "          [ 2.1015817e-01, -1.2182587e+00,  3.5185736e-01, ...,\n",
              "           -1.4386981e+00, -4.5552969e-02, -1.5111136e+00],\n",
              "          [-1.2745446e+00, -1.2526270e+00, -7.3122716e-01, ...,\n",
              "           -3.1412846e-01, -3.2683733e-01, -4.7772878e-01],\n",
              "          [-9.2170894e-01,  1.8866249e+00,  6.0964072e-01, ...,\n",
              "            6.7306542e-01,  1.6938114e-01,  1.1750302e+00]],\n",
              " \n",
              "         [[ 1.1852010e+00,  1.9784815e+00,  1.4761031e+00, ...,\n",
              "            7.5262332e-01,  3.8493774e+00,  2.5926142e+00],\n",
              "          [-3.1898136e+00,  4.8980212e-01, -7.2919047e-01, ...,\n",
              "           -5.0103575e-01,  1.0033876e-01,  7.4998677e-02],\n",
              "          [ 4.5587951e-01, -3.8503176e-01,  1.8367559e+00, ...,\n",
              "           -7.8530806e-01,  7.6857179e-01,  2.7129245e+00],\n",
              "          ...,\n",
              "          [ 2.2162116e+00,  7.8779471e-01,  2.3579109e+00, ...,\n",
              "            5.6735545e-01,  1.9605005e+00,  4.9493974e-01],\n",
              "          [-2.2920401e+00, -2.2701225e+00, -1.7487228e+00, ...,\n",
              "           -1.3316240e+00, -1.3443329e+00, -1.4952244e+00],\n",
              "          [-3.4890127e+00, -6.8067884e-01, -1.9576631e+00, ...,\n",
              "           -1.8942384e+00, -2.3979225e+00, -1.3922735e+00]],\n",
              " \n",
              "         [[-1.5553598e+00, -7.6207942e-01, -1.2644578e+00, ...,\n",
              "           -1.9879376e+00,  1.1088165e+00, -1.4794683e-01],\n",
              "          [-3.6486864e+00,  3.0929089e-02, -1.1880635e+00, ...,\n",
              "           -9.5990878e-01, -3.5853428e-01, -3.8387436e-01],\n",
              "          [-7.8251225e-01, -1.6234235e+00,  5.9836411e-01, ...,\n",
              "           -2.0236998e+00, -4.6981993e-01,  1.4745327e+00],\n",
              "          ...,\n",
              "          [ 1.4124591e+00, -1.5957832e-02,  1.5541582e+00, ...,\n",
              "           -2.3639709e-01,  1.1567479e+00, -3.0881280e-01],\n",
              "          [-2.8431659e+00, -2.8212483e+00, -2.2998486e+00, ...,\n",
              "           -1.8827498e+00, -1.8954587e+00, -2.0463500e+00],\n",
              "          [-1.2493447e+00,  1.5589892e+00,  2.8200498e-01, ...,\n",
              "            3.4542963e-01, -1.5825462e-01,  8.4739447e-01]]],\n",
              " \n",
              " \n",
              "        [[[ 2.4271828e-01,  1.0359987e+00,  5.3362036e-01, ...,\n",
              "           -1.8985945e-01,  2.9068947e+00,  1.6501312e+00],\n",
              "          [-2.7848253e+00,  8.9479041e-01, -3.2420218e-01, ...,\n",
              "           -9.6047446e-02,  5.0532705e-01,  4.7998697e-01],\n",
              "          [-7.2847503e-01, -1.5693864e+00,  6.5240133e-01, ...,\n",
              "           -1.9696627e+00, -4.1578275e-01,  1.5285698e+00],\n",
              "          ...,\n",
              "          [-8.4593290e-01, -2.2743497e+00, -7.0423371e-01, ...,\n",
              "           -2.4947891e+00, -1.1016440e+00, -2.5672047e+00],\n",
              "          [ 1.0683334e-01,  1.2875092e-01,  6.5015072e-01, ...,\n",
              "            1.0672494e+00,  1.0545405e+00,  9.0364909e-01],\n",
              "          [-2.4290574e+00,  3.7927642e-01, -8.9770776e-01, ...,\n",
              "           -8.3428311e-01, -1.3379674e+00, -3.3231825e-01]],\n",
              " \n",
              "         [[-1.5584992e+00, -7.6521879e-01, -1.2675972e+00, ...,\n",
              "           -1.9910769e+00,  1.1056771e+00, -1.5108621e-01],\n",
              "          [-1.0098439e+00,  2.6697717e+00,  1.4507791e+00, ...,\n",
              "            1.6789339e+00,  2.2803082e+00,  2.2549682e+00],\n",
              "          [-3.1138766e-01, -1.1522989e+00,  1.0694886e+00, ...,\n",
              "           -1.5525752e+00,  1.3046265e-03,  1.9456573e+00],\n",
              "          ...,\n",
              "          [ 6.6889250e-01, -7.5952446e-01,  8.1059170e-01, ...,\n",
              "           -9.7996366e-01,  4.1318133e-01, -1.0523794e+00],\n",
              "          [-1.2181162e+00, -1.1961986e+00, -6.7479879e-01, ...,\n",
              "           -2.5770009e-01, -2.7040893e-01, -4.2130041e-01],\n",
              "          [-1.5608276e+00,  1.2475063e+00, -2.9477894e-02, ...,\n",
              "            3.3946753e-02, -4.6973750e-01,  5.3591162e-01]],\n",
              " \n",
              "         [[-6.5572327e-01,  1.3755716e-01, -3.6482123e-01, ...,\n",
              "           -1.0883009e+00,  2.0084531e+00,  7.5168973e-01],\n",
              "          [-1.6289148e+00,  2.0507007e+00,  8.3170813e-01, ...,\n",
              "            1.0598629e+00,  1.6612374e+00,  1.6358973e+00],\n",
              "          [ 2.2085297e-01, -6.2005830e-01,  1.6017294e+00, ...,\n",
              "           -1.0203346e+00,  5.3354526e-01,  2.4778979e+00],\n",
              "          ...,\n",
              "          [ 2.5348699e-01, -1.1749299e+00,  3.9518619e-01, ...,\n",
              "           -1.3953692e+00, -2.2241473e-03, -1.4677849e+00],\n",
              "          [-8.6717254e-01, -8.4525496e-01, -3.2385516e-01, ...,\n",
              "            9.3243539e-02,  8.0534682e-02, -7.0356786e-02],\n",
              "          [-1.0676079e+00,  1.7407260e+00,  4.6374187e-01, ...,\n",
              "            5.2716649e-01,  2.3482263e-02,  1.0291314e+00]],\n",
              " \n",
              "         ...,\n",
              " \n",
              "         [[-2.0216615e+00, -1.2283812e+00, -1.7307595e+00, ...,\n",
              "           -2.4542394e+00,  6.4251482e-01, -6.1424851e-01],\n",
              "          [-4.0793467e+00, -3.9973116e-01, -1.6187238e+00, ...,\n",
              "           -1.3905690e+00, -7.8919452e-01, -8.1453460e-01],\n",
              "          [-9.5425087e-01, -1.7951622e+00,  4.2662549e-01, ...,\n",
              "           -2.1954384e+00, -6.4155859e-01,  1.3027940e+00],\n",
              "          ...,\n",
              "          [ 2.7274582e+00,  1.2990414e+00,  2.8691576e+00, ...,\n",
              "            1.0786021e+00,  2.4717472e+00,  1.0061865e+00],\n",
              "          [-1.1418982e+00, -1.1199806e+00, -5.9858084e-01, ...,\n",
              "           -1.8148214e-01, -1.9419099e-01, -3.4508246e-01],\n",
              "          [-1.2769163e+00,  1.5314176e+00,  2.5443336e-01, ...,\n",
              "            3.1785801e-01, -1.8582624e-01,  8.1982285e-01]],\n",
              " \n",
              "         [[-7.8616512e-01,  7.1153045e-03, -4.9526307e-01, ...,\n",
              "           -1.2187428e+00,  1.8780112e+00,  6.2124789e-01],\n",
              "          [-3.0614996e+00,  6.1811608e-01, -6.0087651e-01, ...,\n",
              "           -3.7272179e-01,  2.2865272e-01,  2.0331264e-01],\n",
              "          [-4.7890681e-01, -1.3198181e+00,  9.0196955e-01, ...,\n",
              "           -1.7200944e+00, -1.6621451e-01,  1.7781380e+00],\n",
              "          ...,\n",
              "          [-2.3647922e-01, -1.6648961e+00, -9.4780028e-02, ...,\n",
              "           -1.8853354e+00, -4.9219036e-01, -1.9577510e+00],\n",
              "          [-1.3689752e+00, -1.3470576e+00, -8.2565784e-01, ...,\n",
              "           -4.0855914e-01, -4.2126799e-01, -5.7215947e-01],\n",
              "          [-2.7773387e+00,  3.0995131e-02, -1.2459891e+00, ...,\n",
              "           -1.1825644e+00, -1.6862487e+00, -6.8059957e-01]],\n",
              " \n",
              "         [[ 4.6123087e-02,  8.3940351e-01,  3.3702514e-01, ...,\n",
              "           -3.8645464e-01,  2.7102995e+00,  1.4535360e+00],\n",
              "          [-3.7015388e+00, -2.1923184e-02, -1.2409158e+00, ...,\n",
              "           -1.0127610e+00, -4.1138655e-01, -4.3672663e-01],\n",
              "          [ 2.1339357e-01, -6.2751770e-01,  1.5942700e+00, ...,\n",
              "           -1.0277940e+00,  5.2608585e-01,  2.4704385e+00],\n",
              "          ...,\n",
              "          [ 3.6997801e-01, -1.0584389e+00,  5.1167721e-01, ...,\n",
              "           -1.2788782e+00,  1.1426687e-01, -1.3512938e+00],\n",
              "          [-1.0678804e-01, -8.4870458e-02,  4.3652934e-01, ...,\n",
              "            8.5362804e-01,  8.4091920e-01,  6.9002771e-01],\n",
              "          [-7.4452353e-01,  2.0638103e+00,  7.8682613e-01, ...,\n",
              "            8.5025084e-01,  3.4656656e-01,  1.3522156e+00]]]],\n",
              "       dtype=float32)>,\n",
              " <tf.Tensor: shape=(2, 32, 32, 32), dtype=float32, numpy=\n",
              " array([[[[ 2.88899839e-01, -8.81562233e-02,  1.50630474e-01, ...,\n",
              "            4.94509399e-01, -9.77416337e-01, -3.80061090e-01],\n",
              "          [-5.94720650e+00,  2.79781628e+00, -9.92575064e-02, ...,\n",
              "            4.42978054e-01,  1.87221253e+00,  1.81198895e+00],\n",
              "          [-7.26865903e-02, -1.86260760e-01,  1.13815725e-01, ...,\n",
              "           -2.40322411e-01, -3.04541048e-02,  2.32151777e-01],\n",
              "          ...,\n",
              "          [ 4.86771241e-02, -4.07857299e-02,  5.75518534e-02, ...,\n",
              "           -5.45920096e-02,  3.26617397e-02, -5.91274612e-02],\n",
              "          [ 1.63647842e+00,  1.60446584e+00,  8.42914343e-01, ...,\n",
              "            2.33703986e-01,  2.52266407e-01,  4.72657055e-01],\n",
              "          [-1.09123898e+00,  4.63963032e-01, -2.43206576e-01, ...,\n",
              "           -2.08083212e-01, -4.87013996e-01,  6.98954016e-02]],\n",
              " \n",
              "         [[ 5.28670073e-01, -1.61320806e-01,  2.75645077e-01, ...,\n",
              "            9.04923737e-01, -1.78861558e+00, -6.95489883e-01],\n",
              "          [ 9.04167891e-01, -4.25358653e-01,  1.50903538e-02, ...,\n",
              "           -6.73470050e-02, -2.84636915e-01, -2.75480986e-01],\n",
              "          [ 8.85733306e-01,  2.26970840e+00, -1.38691854e+00, ...,\n",
              "            2.92848492e+00,  3.71103078e-01, -2.82892036e+00],\n",
              "          ...,\n",
              "          [ 7.90976167e-01, -6.62745416e-01,  9.35185611e-01, ...,\n",
              "           -8.87089789e-01,  5.30735075e-01, -9.60788369e-01],\n",
              "          [-1.58231223e+00, -1.55135918e+00, -8.15014482e-01, ...,\n",
              "           -2.25968555e-01, -2.43916586e-01, -4.57012445e-01],\n",
              "          [ 2.13293576e+00, -9.06862199e-01,  4.75371599e-01, ...,\n",
              "            4.06719476e-01,  9.51917589e-01, -1.36617571e-01]],\n",
              " \n",
              "         [[-4.01125133e-01,  1.22401156e-01, -2.09143996e-01, ...,\n",
              "           -6.86605275e-01,  1.35710096e+00,  5.27698636e-01],\n",
              "          [ 1.94774354e+00, -9.16300595e-01,  3.25073898e-02, ...,\n",
              "           -1.45077810e-01, -6.13160133e-01, -5.93436599e-01],\n",
              "          [ 2.62425035e-01,  6.72469139e-01, -4.10916179e-01, ...,\n",
              "            8.67651343e-01,  1.09950401e-01, -8.38152409e-01],\n",
              "          ...,\n",
              "          [-3.72206688e-01,  3.11865598e-01, -4.40066755e-01, ...,\n",
              "            4.17434484e-01, -2.49745995e-01,  4.52114552e-01],\n",
              "          [-9.95393038e-01, -9.75921214e-01, -5.12705207e-01, ...,\n",
              "           -1.42151162e-01, -1.53441817e-01, -2.87495077e-01],\n",
              "          [-1.50485528e+00,  6.39820635e-01, -3.35390031e-01, ...,\n",
              "           -2.86953747e-01, -6.71608686e-01,  9.63881165e-02]],\n",
              " \n",
              "         ...,\n",
              " \n",
              "         [[ 8.89775395e-01, -2.71510154e-01,  4.63923037e-01, ...,\n",
              "            1.52302718e+00, -3.01032019e+00, -1.17054069e+00],\n",
              "          [-2.05835438e+00,  9.68336582e-01, -3.43534611e-02, ...,\n",
              "            1.53316662e-01,  6.47981048e-01,  6.27137423e-01],\n",
              "          [ 1.16339636e+00,  2.98122525e+00, -1.82169509e+00, ...,\n",
              "            3.84651732e+00,  4.87437874e-01, -3.71574116e+00],\n",
              "          ...,\n",
              "          [ 4.40715373e-01, -3.69267881e-01,  5.21065831e-01, ...,\n",
              "           -4.94267881e-01,  2.95714468e-01, -5.35331190e-01],\n",
              "          [-1.72681719e-01, -1.69303730e-01, -8.89445841e-02, ...,\n",
              "           -2.46605165e-02, -2.66192313e-02, -4.98749204e-02],\n",
              "          [ 2.06671619e+00, -8.78707528e-01,  4.60613102e-01, ...,\n",
              "            3.94092351e-01,  9.22364116e-01, -1.32376105e-01]],\n",
              " \n",
              "         [[ 1.08981097e+00, -3.32549900e-01,  5.68220258e-01, ...,\n",
              "            1.86542773e+00, -3.68708777e+00, -1.43369663e+00],\n",
              "          [-1.72020662e+00,  8.09257627e-01, -2.87098512e-02, ...,\n",
              "            1.28129691e-01,  5.41530311e-01,  5.24110854e-01],\n",
              "          [ 5.34977794e-01,  1.37089086e+00, -8.37690830e-01, ...,\n",
              "            1.76878798e+00,  2.24144116e-01, -1.70865154e+00],\n",
              "          ...,\n",
              "          [-1.11840498e+00,  9.37092423e-01, -1.32231069e+00, ...,\n",
              "            1.25430536e+00, -7.50435650e-01,  1.35851181e+00],\n",
              "          [-1.31270671e+00, -1.28702772e+00, -6.76146567e-01, ...,\n",
              "           -1.87466443e-01, -2.02356368e-01, -3.79143447e-01],\n",
              "          [-2.99221826e+00,  1.27220416e+00, -6.66881561e-01, ...,\n",
              "           -5.70571959e-01, -1.33541071e+00,  1.91655830e-01]],\n",
              " \n",
              "         [[-5.75930417e-01,  1.75742045e-01, -3.00286323e-01, ...,\n",
              "           -9.85819221e-01,  1.94850850e+00,  7.57663012e-01],\n",
              "          [-2.86848474e+00,  1.34945595e+00, -4.78743464e-02, ...,\n",
              "            2.13659257e-01,  9.03014362e-01,  8.73967052e-01],\n",
              "          [-1.31495699e-01, -3.36960256e-01,  2.05901518e-01, ...,\n",
              "           -4.34761971e-01, -5.50938509e-02,  4.19980675e-01],\n",
              "          ...,\n",
              "          [-4.93722260e-01,  4.13681418e-01, -5.83736837e-01, ...,\n",
              "            5.53715765e-01, -3.31281424e-01,  5.99717915e-01],\n",
              "          [-1.93020046e+00, -1.89244211e+00, -9.94204164e-01, ...,\n",
              "           -2.75650173e-01, -2.97544271e-01, -5.57491541e-01],\n",
              "          [ 1.42110193e+00, -6.04211152e-01,  3.16723794e-01, ...,\n",
              "            2.70983219e-01,  6.34230018e-01, -9.10235941e-02]]],\n",
              " \n",
              " \n",
              "        [[[ 5.16960144e-01, -1.57747582e-01,  2.69539624e-01, ...,\n",
              "            8.84879887e-01, -1.74899817e+00, -6.80084944e-01],\n",
              "          [-7.06769049e-01,  3.32493931e-01, -1.17958123e-02, ...,\n",
              "            5.26437387e-02,  2.22494692e-01,  2.15337694e-01],\n",
              "          [-1.02414154e-01, -2.62438208e-01,  1.60364404e-01, ...,\n",
              "           -3.38610142e-01, -4.29093093e-02,  3.27097863e-01],\n",
              "          ...,\n",
              "          [ 1.26151764e+00, -1.05700397e+00,  1.49151528e+00, ...,\n",
              "           -1.41480792e+00,  8.46462429e-01, -1.53234887e+00],\n",
              "          [ 1.37504530e+00,  1.34814680e+00,  7.08255827e-01, ...,\n",
              "            1.96368963e-01,  2.11965978e-01,  3.97148430e-01],\n",
              "          [-9.03550684e-01,  3.84163439e-01, -2.01376110e-01, ...,\n",
              "           -1.72293812e-01, -4.03249741e-01,  5.78737035e-02]],\n",
              " \n",
              "         [[-5.77838540e-01,  1.76324308e-01, -3.01281214e-01, ...,\n",
              "           -9.89085376e-01,  1.95496416e+00,  7.60173321e-01],\n",
              "          [ 3.73492146e+00, -1.75706434e+00,  6.23349771e-02, ...,\n",
              "           -2.78195858e-01, -1.17577338e+00, -1.13795221e+00],\n",
              "          [ 1.22052535e-01,  3.12761962e-01, -1.91115007e-01, ...,\n",
              "            4.03540194e-01,  5.11373691e-02, -3.89820397e-01],\n",
              "          ...,\n",
              "          [ 8.41835067e-02, -7.05359206e-02,  9.95317027e-02, ...,\n",
              "           -9.44128707e-02,  5.64860776e-02, -1.02256604e-01],\n",
              "          [-1.09458067e-01, -1.07316859e-01, -5.63794598e-02, ...,\n",
              "           -1.56316068e-02, -1.68731790e-02, -3.16143036e-02],\n",
              "          [ 8.07317376e-01, -3.43247831e-01,  1.79928407e-01, ...,\n",
              "            1.53943539e-01,  3.60301316e-01, -5.17098233e-02]],\n",
              " \n",
              "         [[-2.91219484e-02,  8.88640527e-03, -1.51839918e-02, ...,\n",
              "           -4.98479940e-02,  9.85264257e-02,  3.83112691e-02],\n",
              "          [ 2.18576622e+00, -1.02827644e+00,  3.64799351e-02, ...,\n",
              "           -1.62806928e-01, -6.88090920e-01, -6.65957093e-01],\n",
              "          [ 4.08492029e-01,  1.04676855e+00, -6.39634073e-01, ...,\n",
              "            1.35059011e+00,  1.71149313e-01, -1.30467188e+00],\n",
              "          ...,\n",
              "          [ 4.07039881e-01, -3.41051757e-01,  4.81250703e-01, ...,\n",
              "           -4.56500381e-01,  2.73118645e-01, -4.94425982e-01],\n",
              "          [ 2.83747107e-01,  2.78196454e-01,  1.46151930e-01, ...,\n",
              "            4.05216627e-02,  4.37401794e-02,  8.19534510e-02],\n",
              "          [ 1.77921891e+00, -7.56472051e-01,  3.96538019e-01, ...,\n",
              "            3.39270860e-01,  7.94055641e-01, -1.13961495e-01]],\n",
              " \n",
              "         ...,\n",
              " \n",
              "         [[-8.59353423e-01,  2.62227029e-01, -4.48061198e-01, ...,\n",
              "           -1.47095394e+00,  2.90739536e+00,  1.13051903e+00],\n",
              "          [-3.94616342e+00,  1.85644138e+00, -6.58605546e-02, ...,\n",
              "            2.93930233e-01,  1.24227345e+00,  1.20231318e+00],\n",
              "          [-2.23921433e-01, -5.73802948e-01,  3.50625634e-01, ...,\n",
              "           -7.40347564e-01, -9.38182250e-02,  7.15176761e-01],\n",
              "          ...,\n",
              "          [-1.51574993e+00,  1.27002096e+00, -1.79209876e+00, ...,\n",
              "            1.69993269e+00, -1.01704907e+00,  1.84116149e+00],\n",
              "          [-2.40617562e-02, -2.35910621e-02, -1.23936851e-02, ...,\n",
              "           -3.43623734e-03, -3.70916771e-03, -6.94965385e-03],\n",
              "          [ 1.36677134e+00, -5.81111431e-01,  3.04615021e-01, ...,\n",
              "            2.60623187e-01,  6.09982610e-01, -8.75436440e-02]],\n",
              " \n",
              "         [[-1.08405866e-01,  3.30794603e-02, -5.65221012e-02, ...,\n",
              "           -1.85558155e-01,  3.66762608e-01,  1.42612919e-01],\n",
              "          [-1.39911544e+00,  6.58202767e-01, -2.33509131e-02, ...,\n",
              "            1.04213201e-01,  4.40449029e-01,  4.26281095e-01],\n",
              "          [ 3.18976454e-02,  8.17383230e-02, -4.99466769e-02, ...,\n",
              "            1.05462633e-01,  1.33644221e-02, -1.01877049e-01],\n",
              "          ...,\n",
              "          [ 7.87845433e-01, -6.60122216e-01,  9.31484103e-01, ...,\n",
              "           -8.83578658e-01,  5.28634369e-01, -9.56985474e-01],\n",
              "          [-2.78483987e-01, -2.73036301e-01, -1.43441021e-01, ...,\n",
              "           -3.97700407e-02, -4.29288596e-02, -8.04333314e-02],\n",
              "          [-1.58984745e+00,  6.75956845e-01, -3.54332417e-01, ...,\n",
              "           -3.03160489e-01, -7.09540248e-01,  1.01831988e-01]],\n",
              " \n",
              "         [[ 3.97467554e-01, -1.21285066e-01,  2.07236961e-01, ...,\n",
              "            6.80344582e-01, -1.34472656e+00, -5.22886932e-01],\n",
              "          [-3.00074148e+00,  1.41167510e+00, -5.00816852e-02, ...,\n",
              "            2.23510414e-01,  9.44649577e-01,  9.14262950e-01],\n",
              "          [ 4.04477537e-01,  1.03648138e+00, -6.33347988e-01, ...,\n",
              "            1.33731723e+00,  1.69467330e-01, -1.29185021e+00],\n",
              "          ...,\n",
              "          [ 3.16502154e-01, -2.65191734e-01,  3.74206305e-01, ...,\n",
              "           -3.54961187e-01,  2.12368965e-01, -3.84451002e-01],\n",
              "          [ 1.13569903e+00,  1.11348271e+00,  5.84973812e-01, ...,\n",
              "            1.62188143e-01,  1.75070286e-01,  3.28019083e-01],\n",
              "          [ 2.41586447e+00, -1.02715516e+00,  5.38428426e-01, ...,\n",
              "            4.60669756e-01,  1.07818711e+00, -1.54739544e-01]]]],\n",
              "       dtype=float32)>,\n",
              " <tf.Tensor: shape=(2, 32, 32, 32), dtype=float32, numpy=\n",
              " array([[[[ 7.82007754e-01, -2.56274509e+00,  1.49984205e+00, ...,\n",
              "            4.56860691e-01, -2.31141955e-01, -5.94435811e-01],\n",
              "          [-9.49738324e-01,  2.01882100e+00, -5.69054184e+01, ...,\n",
              "            1.27507219e+01,  3.01690626e+00,  3.11717677e+00],\n",
              "          [-2.50960022e-01, -9.79348943e-02,  1.60271600e-01, ...,\n",
              "           -7.59039819e-02, -5.98980963e-01,  7.85754398e-02],\n",
              "          ...,\n",
              "          [ 8.05843323e-02, -9.61761326e-02,  6.81579039e-02, ...,\n",
              "           -7.18532577e-02,  1.20098129e-01, -6.63416535e-02],\n",
              "          [ 1.30360663e+00,  1.32961643e+00,  2.53089094e+00, ...,\n",
              "            9.12831783e+00,  8.45663166e+00,  4.51347160e+00],\n",
              "          [-2.81032324e-01,  6.60986781e-01, -1.26095867e+00, ...,\n",
              "           -1.47380197e+00, -6.29701495e-01,  4.38760519e+00]],\n",
              " \n",
              "         [[ 1.43102920e+00, -4.68967581e+00,  2.74462461e+00, ...,\n",
              "            8.36028755e-01, -4.22976434e-01, -1.08778334e+00],\n",
              "          [ 1.44390970e-01, -3.06926131e-01,  8.65146637e+00, ...,\n",
              "           -1.93852258e+00, -4.58667427e-01, -4.73911792e-01],\n",
              "          [ 3.05811119e+00,  1.19340038e+00, -1.95301366e+00, ...,\n",
              "            9.24939394e-01,  7.29897213e+00, -9.57492828e-01],\n",
              "          ...,\n",
              "          [ 1.30945063e+00, -1.56280863e+00,  1.10752797e+00, ...,\n",
              "           -1.16757548e+00,  1.95152783e+00, -1.07801497e+00],\n",
              "          [-1.26045823e+00, -1.28560710e+00, -2.44712019e+00, ...,\n",
              "           -8.82617664e+00, -8.17672348e+00, -4.36407900e+00],\n",
              "          [ 5.49305797e-01, -1.29196477e+00,  2.46466994e+00, ...,\n",
              "            2.88069344e+00,  1.23081458e+00, -8.57601357e+00]],\n",
              " \n",
              "         [[-1.08578455e+00,  3.55826235e+00, -2.08246684e+00, ...,\n",
              "           -6.34331644e-01,  3.20930749e-01,  8.25348854e-01],\n",
              "          [ 3.11044633e-01, -6.61175191e-01,  1.86368446e+01, ...,\n",
              "           -4.17593336e+00, -9.88053799e-01, -1.02089298e+00],\n",
              "          [ 9.06057060e-01,  3.53580594e-01, -5.78638792e-01, ...,\n",
              "            2.74040997e-01,  2.16253924e+00, -2.83685923e-01],\n",
              "          ...,\n",
              "          [-6.16183221e-01,  7.35404909e-01, -5.21165252e-01, ...,\n",
              "            5.49421549e-01, -9.18323040e-01,  5.07277429e-01],\n",
              "          [-7.92922735e-01, -8.08743298e-01, -1.53942215e+00, ...,\n",
              "           -5.55232716e+00, -5.14377213e+00, -2.74533296e+00],\n",
              "          [-3.87553036e-01,  9.11522985e-01, -1.73890436e+00, ...,\n",
              "           -2.03242230e+00, -8.68379533e-01,  6.05065489e+00]],\n",
              " \n",
              "         ...,\n",
              " \n",
              "         [[ 2.40848637e+00, -7.89293480e+00,  4.61932611e+00, ...,\n",
              "            1.40707386e+00, -7.11888313e-01, -1.83078802e+00],\n",
              "          [-3.28708649e-01,  6.98722839e-01, -1.96952171e+01, ...,\n",
              "            4.41308117e+00,  1.04416466e+00,  1.07886863e+00],\n",
              "          [ 4.01677942e+00,  1.56751204e+00, -2.56525183e+00, ...,\n",
              "            1.21489286e+00,  9.58708191e+00, -1.25765133e+00],\n",
              "          ...,\n",
              "          [ 7.29598463e-01, -8.70764256e-01,  6.17091417e-01, ...,\n",
              "           -6.50548577e-01,  1.08735049e+00, -6.00647390e-01],\n",
              "          [-1.37556985e-01, -1.40301540e-01, -2.67060399e-01, ...,\n",
              "           -9.63222921e-01, -8.92346382e-01, -4.76262957e-01],\n",
              "          [ 5.32251954e-01, -1.25185418e+00,  2.38815117e+00, ...,\n",
              "            2.79125857e+00,  1.19260240e+00, -8.30976009e+00]],\n",
              " \n",
              "         [[ 2.94995189e+00, -9.66739082e+00,  5.65782356e+00, ...,\n",
              "            1.72340631e+00, -8.71932089e-01, -2.24237800e+00],\n",
              "          [-2.74708152e-01,  5.83936155e-01, -1.64596729e+01, ...,\n",
              "            3.68809724e+00,  8.72628570e-01,  9.01631415e-01],\n",
              "          [ 1.84708154e+00,  7.20806956e-01, -1.17960906e+00, ...,\n",
              "            5.58658063e-01,  4.40853739e+00, -5.78320146e-01],\n",
              "          ...,\n",
              "          [-1.85150468e+00,  2.20974159e+00, -1.56599510e+00, ...,\n",
              "            1.65089941e+00, -2.75937319e+00,  1.52426493e+00],\n",
              "          [-1.04569244e+00, -1.06655633e+00, -2.03016281e+00, ...,\n",
              "           -7.32231092e+00, -6.78351593e+00, -3.62049675e+00],\n",
              "          [-7.70601213e-01,  1.81245053e+00, -3.45759606e+00, ...,\n",
              "           -4.04122019e+00, -1.72666514e+00,  1.20309782e+01]],\n",
              " \n",
              "         [[-1.55895567e+00,  5.10890818e+00, -2.98997974e+00, ...,\n",
              "           -9.10765350e-01,  4.60788339e-01,  1.18502545e+00],\n",
              "          [-4.58082259e-01,  9.73727226e-01, -2.74468899e+01, ...,\n",
              "            6.14998817e+00,  1.45512843e+00,  1.50349140e+00],\n",
              "          [-4.54006284e-01, -1.77171856e-01,  2.89943814e-01, ...,\n",
              "           -1.37316227e-01, -1.08360326e+00,  1.42149106e-01],\n",
              "          ...,\n",
              "          [-8.17350626e-01,  9.75495100e-01, -6.91311836e-01, ...,\n",
              "            7.28793085e-01, -1.21813107e+00,  6.72890007e-01],\n",
              "          [-1.53758347e+00, -1.56826162e+00, -2.98514581e+00, ...,\n",
              "           -1.07667065e+01, -9.97446346e+00, -5.32356882e+00],\n",
              "          [ 3.65983605e-01, -8.60791802e-01,  1.64212489e+00, ...,\n",
              "            1.91930711e+00,  8.20049524e-01, -5.71390343e+00]]],\n",
              " \n",
              " \n",
              "        [[[ 1.39933228e+00, -4.58580065e+00,  2.68383193e+00, ...,\n",
              "            8.17510962e-01, -4.13607627e-01, -1.06368923e+00],\n",
              "          [-1.12867393e-01,  2.39917710e-01, -6.76266909e+00, ...,\n",
              "            1.51530230e+00,  3.58530700e-01,  3.70446891e-01],\n",
              "          [-3.53598386e-01, -1.37988582e-01,  2.25819930e-01, ...,\n",
              "           -1.06947407e-01, -8.43953848e-01,  1.10711448e-01],\n",
              "          ...,\n",
              "          [ 2.08842564e+00, -2.49250293e+00,  1.76638198e+00, ...,\n",
              "           -1.86215079e+00,  3.11246610e+00, -1.71931195e+00],\n",
              "          [ 1.09535098e+00,  1.11720562e+00,  2.12657213e+00, ...,\n",
              "            7.67003679e+00,  7.10565519e+00,  3.79242873e+00],\n",
              "          [-2.32696012e-01,  5.47299981e-01, -1.04407930e+00, ...,\n",
              "           -1.22031450e+00, -5.21395624e-01,  3.63295627e+00]],\n",
              " \n",
              "         [[-1.56412077e+00,  5.12583494e+00, -2.99988604e+00, ...,\n",
              "           -9.13782895e-01,  4.62314993e-01,  1.18895161e+00],\n",
              "          [ 5.96447766e-01, -1.26784527e+00,  3.57373276e+01, ...,\n",
              "           -8.00761604e+00, -1.89465559e+00, -1.95762670e+00],\n",
              "          [ 4.21402484e-01,  1.64448529e-01, -2.69121945e-01, ...,\n",
              "            1.27455071e-01,  1.00578594e+00, -1.31940871e-01],\n",
              "          ...,\n",
              "          [ 1.39364690e-01, -1.66329548e-01,  1.17874086e-01, ...,\n",
              "           -1.24264926e-01,  2.07700893e-01, -1.14733018e-01],\n",
              "          [-8.71934891e-02, -8.89331922e-02, -1.69282049e-01, ...,\n",
              "           -6.10559821e-01, -5.65633237e-01, -3.01889628e-01],\n",
              "          [ 2.07912549e-01, -4.89009380e-01,  9.32878852e-01, ...,\n",
              "            1.09034395e+00,  4.65863973e-01, -3.24602556e+00]],\n",
              " \n",
              "         [[-7.88286701e-02,  2.58332193e-01, -1.51188463e-01, ...,\n",
              "           -4.60528955e-02,  2.32997853e-02,  5.99208698e-02],\n",
              "          [ 3.49055648e-01, -7.41973639e-01,  2.09143467e+01, ...,\n",
              "           -4.68625021e+00, -1.10879827e+00, -1.14565039e+00],\n",
              "          [ 1.41037261e+00,  5.50385237e-01, -9.00711894e-01, ...,\n",
              "            4.26573515e-01,  3.36621857e+00, -4.41586852e-01],\n",
              "          ...,\n",
              "          [ 6.73849165e-01, -8.04228306e-01,  5.69938838e-01, ...,\n",
              "           -6.00839555e-01,  1.00426495e+00, -5.54751337e-01],\n",
              "          [ 2.26030841e-01,  2.30540648e-01,  4.38828230e-01, ...,\n",
              "            1.58274841e+00,  1.46628547e+00,  7.82585621e-01],\n",
              "          [ 4.58211303e-01, -1.07771087e+00,  2.05593967e+00, ...,\n",
              "            2.40297151e+00,  1.02670157e+00, -7.15380383e+00]],\n",
              " \n",
              "         ...,\n",
              " \n",
              "         [[-2.32613850e+00,  7.62307024e+00, -4.46138859e+00, ...,\n",
              "           -1.35896516e+00,  6.87548399e-01,  1.76819217e+00],\n",
              "          [-6.30182028e-01,  1.33955276e+00, -3.77585831e+01, ...,\n",
              "            8.46051502e+00,  2.00181460e+00,  2.06834745e+00],\n",
              "          [-7.73118317e-01, -3.01702470e-01,  4.93739605e-01, ...,\n",
              "           -2.33833075e-01, -1.84524643e+00,  2.42062896e-01],\n",
              "          ...,\n",
              "          [-2.50930381e+00,  2.99481440e+00, -2.12235904e+00, ...,\n",
              "            2.23742795e+00, -3.73971820e+00,  2.06580305e+00],\n",
              "          [-1.91674177e-02, -1.95498485e-02, -3.72126363e-02, ...,\n",
              "           -1.34217069e-01, -1.24341026e-01, -6.63632676e-02],\n",
              "          [ 3.51991594e-01, -8.27882648e-01,  1.57934439e+00, ...,\n",
              "            1.84592950e+00,  7.88697958e-01, -5.49545336e+00]],\n",
              " \n",
              "         [[-2.93438137e-01,  9.61636364e-01, -5.62795997e-01, ...,\n",
              "           -1.71430975e-01,  8.67329761e-02,  2.23054215e-01],\n",
              "          [-2.23431543e-01,  4.74939525e-01, -1.33873358e+01, ...,\n",
              "            2.99968243e+00,  7.09744990e-01,  7.33334184e-01],\n",
              "          [ 1.10130832e-01,  4.29775640e-02, -7.03332871e-02, ...,\n",
              "            3.33095603e-02,  2.62855679e-01, -3.44818980e-02],\n",
              "          ...,\n",
              "          [ 1.30426764e+00, -1.55662286e+00,  1.10314429e+00, ...,\n",
              "           -1.16295409e+00,  1.94380343e+00, -1.07374811e+00],\n",
              "          [-2.21838281e-01, -2.26264432e-01, -4.30688560e-01, ...,\n",
              "           -1.55339050e+00, -1.43908799e+00, -7.68069744e-01],\n",
              "          [-4.09441501e-01,  9.63004589e-01, -1.83711529e+00, ...,\n",
              "           -2.14721084e+00, -9.17424440e-01,  6.39238787e+00]],\n",
              " \n",
              "         [[ 1.07588398e+00, -3.52581716e+00,  2.06347823e+00, ...,\n",
              "            6.28547609e-01, -3.18004429e-01, -8.17823052e-01],\n",
              "          [-4.79203016e-01,  1.01862276e+00, -2.87123814e+01, ...,\n",
              "            6.43354511e+00,  1.52221990e+00,  1.57281268e+00],\n",
              "          [ 1.39651215e+00,  5.44976294e-01, -8.91860068e-01, ...,\n",
              "            4.22381341e-01,  3.33313680e+00, -4.37247127e-01],\n",
              "          ...,\n",
              "          [ 5.23965120e-01, -6.25344098e-01,  4.43167567e-01, ...,\n",
              "           -4.67195034e-01,  7.80886650e-01, -4.31358188e-01],\n",
              "          [ 9.04689491e-01,  9.22740042e-01,  1.75641203e+00, ...,\n",
              "            6.33495760e+00,  5.86881447e+00,  3.13230252e+00],\n",
              "          [ 6.22169852e-01, -1.46334064e+00,  2.79160213e+00, ...,\n",
              "            3.26280999e+00,  1.39407897e+00, -9.71359921e+00]]]],\n",
              "       dtype=float32)>)"
            ]
          },
          "metadata": {
            "tags": []
          },
          "execution_count": 154
        }
      ]
    },
    {
      "cell_type": "code",
      "metadata": {
        "id": "erN8svyCFq3D"
      },
      "source": [
        "x=tf.constant([1.,2.])"
      ],
      "execution_count": null,
      "outputs": []
    },
    {
      "cell_type": "code",
      "metadata": {
        "id": "UbjqRncWH16P"
      },
      "source": [
        "x=10**x"
      ],
      "execution_count": null,
      "outputs": []
    },
    {
      "cell_type": "code",
      "metadata": {
        "colab": {
          "base_uri": "https://localhost:8080/"
        },
        "id": "nPQJXrZGH4EA",
        "outputId": "0c8986e6-e617-4f0e-a3c0-e86ec9f658f7"
      },
      "source": [
        "x"
      ],
      "execution_count": null,
      "outputs": [
        {
          "output_type": "execute_result",
          "data": {
            "text/plain": [
              "<tf.Tensor: shape=(2,), dtype=float32, numpy=array([ 10., 100.], dtype=float32)>"
            ]
          },
          "metadata": {
            "tags": []
          },
          "execution_count": 157
        }
      ]
    },
    {
      "cell_type": "code",
      "metadata": {
        "colab": {
          "base_uri": "https://localhost:8080/"
        },
        "id": "Aa9CZKgfH5BL",
        "outputId": "306ae0f8-5bf4-488f-ba4e-b4d639f52340"
      },
      "source": [
        "tf.math.log(x)/tf.math.log(10.)"
      ],
      "execution_count": null,
      "outputs": [
        {
          "output_type": "execute_result",
          "data": {
            "text/plain": [
              "<tf.Tensor: shape=(2,), dtype=float32, numpy=array([1., 2.], dtype=float32)>"
            ]
          },
          "metadata": {
            "tags": []
          },
          "execution_count": 158
        }
      ]
    },
    {
      "cell_type": "code",
      "metadata": {
        "id": "SrDkTQJNH_19"
      },
      "source": [
        "a=tf.random.normal([4,28,32])"
      ],
      "execution_count": null,
      "outputs": []
    },
    {
      "cell_type": "code",
      "metadata": {
        "id": "LaomYaWRI-r9"
      },
      "source": [
        "b=tf.random.normal([32,16])"
      ],
      "execution_count": null,
      "outputs": []
    },
    {
      "cell_type": "code",
      "metadata": {
        "colab": {
          "base_uri": "https://localhost:8080/"
        },
        "id": "CXxT6DGDJE2P",
        "outputId": "cb093c72-16d4-4acf-819e-43cd80b51c68"
      },
      "source": [
        "a@b"
      ],
      "execution_count": null,
      "outputs": [
        {
          "output_type": "execute_result",
          "data": {
            "text/plain": [
              "<tf.Tensor: shape=(4, 28, 16), dtype=float32, numpy=\n",
              "array([[[ 2.76474667e+00,  2.84854102e+00, -6.46325159e+00, ...,\n",
              "         -1.01410234e+00,  1.15293512e+01, -6.00480318e-01],\n",
              "        [-8.19037724e+00, -3.96122694e+00, -2.56269979e+00, ...,\n",
              "          1.26320009e+01,  5.18923521e-01,  3.44954109e+00],\n",
              "        [-3.39838433e+00, -8.17367458e+00, -5.19704771e+00, ...,\n",
              "          6.10738182e+00, -8.98570728e+00, -4.25290680e+00],\n",
              "        ...,\n",
              "        [ 1.34251142e+00,  2.85788107e+00,  4.86293125e+00, ...,\n",
              "          5.96931791e+00, -2.52008605e+00,  3.44669890e+00],\n",
              "        [ 5.40652037e+00,  7.93637896e+00, -1.55478692e+00, ...,\n",
              "          3.96216512e+00, -2.23669887e+00, -2.89004445e+00],\n",
              "        [-2.14426827e+00, -5.14782572e+00,  1.71076143e+00, ...,\n",
              "         -5.26773095e-01, -3.57252669e+00, -1.22437453e+00]],\n",
              "\n",
              "       [[-9.14007282e+00, -4.05790377e+00, -1.49617052e+00, ...,\n",
              "          7.31887817e+00,  5.22728682e+00,  5.16750669e+00],\n",
              "        [ 3.40620613e+00,  9.43399048e+00, -5.82783031e+00, ...,\n",
              "          7.44158363e+00, -2.72512770e+00, -4.30053186e+00],\n",
              "        [ 7.53521817e-05,  2.17578602e+00, -1.06232488e+00, ...,\n",
              "          2.88531184e+00, -3.02387428e+00, -3.23703432e+00],\n",
              "        ...,\n",
              "        [ 9.73115861e-02, -5.78139353e+00, -3.62404037e+00, ...,\n",
              "         -4.58629942e+00,  2.21339464e+00,  4.93956041e+00],\n",
              "        [ 2.15270877e+00, -5.79282904e+00,  7.48900986e+00, ...,\n",
              "         -6.10148811e+00,  3.99266410e+00,  3.05762959e+00],\n",
              "        [-9.73515689e-01,  1.11947041e+01,  1.21285558e+00, ...,\n",
              "         -3.29304790e+00,  9.57851171e-01,  4.21039486e+00]],\n",
              "\n",
              "       [[-1.55567920e+00, -5.06821442e+00, -2.78912842e-01, ...,\n",
              "          2.12119842e+00, -1.36828870e-01, -4.57383871e+00],\n",
              "        [-2.76346773e-01, -5.66970778e+00, -3.59596658e+00, ...,\n",
              "          9.62639236e+00,  1.25967531e+01, -7.13799894e-01],\n",
              "        [ 9.22234952e-01, -9.53997040e+00,  3.90193391e+00, ...,\n",
              "         -8.88744068e+00, -3.28988433e+00, -3.07723141e+00],\n",
              "        ...,\n",
              "        [ 1.29490149e+00,  2.13446784e+00, -2.10254624e-01, ...,\n",
              "         -1.79406250e+00,  2.43506360e+00, -5.44761610e+00],\n",
              "        [ 9.84131813e-01,  8.90519905e+00, -8.26933670e+00, ...,\n",
              "         -2.98808146e+00, -1.04038372e+01,  3.82341117e-01],\n",
              "        [-6.07658768e+00,  6.21721125e+00, -1.02081871e+00, ...,\n",
              "          1.04487295e+01, -2.73863792e+00, -1.59473002e+00]],\n",
              "\n",
              "       [[-3.17869410e-02,  3.46110725e+00, -1.57516849e+00, ...,\n",
              "          2.95211887e+00,  1.77309608e+00,  7.25473687e-02],\n",
              "        [-1.84826481e+00, -3.37890887e+00, -7.73257875e+00, ...,\n",
              "         -2.02037644e+00, -1.07318449e+00, -8.24345684e+00],\n",
              "        [-7.08817863e+00, -4.45996666e+00,  6.12720728e+00, ...,\n",
              "         -1.30992880e+01,  2.44280505e+00,  6.03539324e+00],\n",
              "        ...,\n",
              "        [-5.74532318e+00,  2.17002416e+00,  2.95568204e+00, ...,\n",
              "         -1.10493383e+01,  5.00837564e+00, -2.97943687e+00],\n",
              "        [-2.43004179e+00, -1.37841821e+00,  1.56215584e+00, ...,\n",
              "         -7.09068346e+00,  1.71879029e+00, -3.25981236e+00],\n",
              "        [-4.19008207e+00,  3.31706715e+00, -3.87030005e+00, ...,\n",
              "         -2.91596866e+00, -5.58293676e+00, -3.77766085e+00]]],\n",
              "      dtype=float32)>"
            ]
          },
          "metadata": {
            "tags": []
          },
          "execution_count": 161
        }
      ]
    },
    {
      "cell_type": "code",
      "metadata": {
        "id": "EO9AZjIdJIyY"
      },
      "source": [
        "w1=tf.Variable(tf.random.truncated_normal([784,256],stddev=0.1))"
      ],
      "execution_count": null,
      "outputs": []
    },
    {
      "cell_type": "code",
      "metadata": {
        "id": "BrWKYqWUMTfy"
      },
      "source": [
        "b1=tf.Variable(tf.zeros([256]))"
      ],
      "execution_count": null,
      "outputs": []
    },
    {
      "cell_type": "code",
      "metadata": {
        "id": "OhJbf-jUMZp9"
      },
      "source": [
        "w2=tf.Variable(tf.random.truncated_normal([256,128],stddev=0.1))"
      ],
      "execution_count": null,
      "outputs": []
    },
    {
      "cell_type": "code",
      "metadata": {
        "id": "2FPiiDESMmiY"
      },
      "source": [
        "b2=tf.Variable(tf.zeros([128]))"
      ],
      "execution_count": null,
      "outputs": []
    },
    {
      "cell_type": "code",
      "metadata": {
        "id": "QlMGvlzMMr_s"
      },
      "source": [
        "w3=tf.Variable(tf.zeros([10]))"
      ],
      "execution_count": null,
      "outputs": []
    },
    {
      "cell_type": "code",
      "metadata": {
        "colab": {
          "base_uri": "https://localhost:8080/",
          "height": 307
        },
        "id": "VkhfQyDnM2K9",
        "outputId": "6dcb351a-59ff-4ff3-b631-f4e7e2fd1e2a"
      },
      "source": [
        "x=tf.reshape(x,[-1,28*28])"
      ],
      "execution_count": null,
      "outputs": [
        {
          "output_type": "error",
          "ename": "InvalidArgumentError",
          "evalue": "ignored",
          "traceback": [
            "\u001b[0;31m---------------------------------------------------------------------------\u001b[0m",
            "\u001b[0;31mInvalidArgumentError\u001b[0m                      Traceback (most recent call last)",
            "\u001b[0;32m<ipython-input-169-a7d8727fd463>\u001b[0m in \u001b[0;36m<module>\u001b[0;34m()\u001b[0m\n\u001b[0;32m----> 1\u001b[0;31m \u001b[0mx\u001b[0m\u001b[0;34m=\u001b[0m\u001b[0mtf\u001b[0m\u001b[0;34m.\u001b[0m\u001b[0mreshape\u001b[0m\u001b[0;34m(\u001b[0m\u001b[0mx\u001b[0m\u001b[0;34m,\u001b[0m\u001b[0;34m[\u001b[0m\u001b[0;34m-\u001b[0m\u001b[0;36m1\u001b[0m\u001b[0;34m,\u001b[0m\u001b[0;36m28\u001b[0m\u001b[0;34m*\u001b[0m\u001b[0;36m28\u001b[0m\u001b[0;34m]\u001b[0m\u001b[0;34m)\u001b[0m\u001b[0;34m\u001b[0m\u001b[0;34m\u001b[0m\u001b[0m\n\u001b[0m",
            "\u001b[0;32m/usr/local/lib/python3.6/dist-packages/tensorflow/python/util/dispatch.py\u001b[0m in \u001b[0;36mwrapper\u001b[0;34m(*args, **kwargs)\u001b[0m\n\u001b[1;32m    199\u001b[0m     \u001b[0;34m\"\"\"Call target, and fall back on dispatchers if there is a TypeError.\"\"\"\u001b[0m\u001b[0;34m\u001b[0m\u001b[0;34m\u001b[0m\u001b[0m\n\u001b[1;32m    200\u001b[0m     \u001b[0;32mtry\u001b[0m\u001b[0;34m:\u001b[0m\u001b[0;34m\u001b[0m\u001b[0;34m\u001b[0m\u001b[0m\n\u001b[0;32m--> 201\u001b[0;31m       \u001b[0;32mreturn\u001b[0m \u001b[0mtarget\u001b[0m\u001b[0;34m(\u001b[0m\u001b[0;34m*\u001b[0m\u001b[0margs\u001b[0m\u001b[0;34m,\u001b[0m \u001b[0;34m**\u001b[0m\u001b[0mkwargs\u001b[0m\u001b[0;34m)\u001b[0m\u001b[0;34m\u001b[0m\u001b[0;34m\u001b[0m\u001b[0m\n\u001b[0m\u001b[1;32m    202\u001b[0m     \u001b[0;32mexcept\u001b[0m \u001b[0;34m(\u001b[0m\u001b[0mTypeError\u001b[0m\u001b[0;34m,\u001b[0m \u001b[0mValueError\u001b[0m\u001b[0;34m)\u001b[0m\u001b[0;34m:\u001b[0m\u001b[0;34m\u001b[0m\u001b[0;34m\u001b[0m\u001b[0m\n\u001b[1;32m    203\u001b[0m       \u001b[0;31m# Note: convert_to_eager_tensor currently raises a ValueError, not a\u001b[0m\u001b[0;34m\u001b[0m\u001b[0;34m\u001b[0m\u001b[0;34m\u001b[0m\u001b[0m\n",
            "\u001b[0;32m/usr/local/lib/python3.6/dist-packages/tensorflow/python/ops/array_ops.py\u001b[0m in \u001b[0;36mreshape\u001b[0;34m(tensor, shape, name)\u001b[0m\n\u001b[1;32m    193\u001b[0m     \u001b[0mA\u001b[0m\u001b[0;31m \u001b[0m\u001b[0;31m`\u001b[0m\u001b[0mTensor\u001b[0m\u001b[0;31m`\u001b[0m\u001b[0;34m.\u001b[0m \u001b[0mHas\u001b[0m \u001b[0mthe\u001b[0m \u001b[0msame\u001b[0m \u001b[0mtype\u001b[0m \u001b[0;32mas\u001b[0m\u001b[0;31m \u001b[0m\u001b[0;31m`\u001b[0m\u001b[0mtensor\u001b[0m\u001b[0;31m`\u001b[0m\u001b[0;34m.\u001b[0m\u001b[0;34m\u001b[0m\u001b[0;34m\u001b[0m\u001b[0m\n\u001b[1;32m    194\u001b[0m   \"\"\"\n\u001b[0;32m--> 195\u001b[0;31m   \u001b[0mresult\u001b[0m \u001b[0;34m=\u001b[0m \u001b[0mgen_array_ops\u001b[0m\u001b[0;34m.\u001b[0m\u001b[0mreshape\u001b[0m\u001b[0;34m(\u001b[0m\u001b[0mtensor\u001b[0m\u001b[0;34m,\u001b[0m \u001b[0mshape\u001b[0m\u001b[0;34m,\u001b[0m \u001b[0mname\u001b[0m\u001b[0;34m)\u001b[0m\u001b[0;34m\u001b[0m\u001b[0;34m\u001b[0m\u001b[0m\n\u001b[0m\u001b[1;32m    196\u001b[0m   \u001b[0mtensor_util\u001b[0m\u001b[0;34m.\u001b[0m\u001b[0mmaybe_set_static_shape\u001b[0m\u001b[0;34m(\u001b[0m\u001b[0mresult\u001b[0m\u001b[0;34m,\u001b[0m \u001b[0mshape\u001b[0m\u001b[0;34m)\u001b[0m\u001b[0;34m\u001b[0m\u001b[0;34m\u001b[0m\u001b[0m\n\u001b[1;32m    197\u001b[0m   \u001b[0;32mreturn\u001b[0m \u001b[0mresult\u001b[0m\u001b[0;34m\u001b[0m\u001b[0;34m\u001b[0m\u001b[0m\n",
            "\u001b[0;32m/usr/local/lib/python3.6/dist-packages/tensorflow/python/ops/gen_array_ops.py\u001b[0m in \u001b[0;36mreshape\u001b[0;34m(tensor, shape, name)\u001b[0m\n\u001b[1;32m   8371\u001b[0m     \u001b[0;32mtry\u001b[0m\u001b[0;34m:\u001b[0m\u001b[0;34m\u001b[0m\u001b[0;34m\u001b[0m\u001b[0m\n\u001b[1;32m   8372\u001b[0m       return reshape_eager_fallback(\n\u001b[0;32m-> 8373\u001b[0;31m           tensor, shape, name=name, ctx=_ctx)\n\u001b[0m\u001b[1;32m   8374\u001b[0m     \u001b[0;32mexcept\u001b[0m \u001b[0m_core\u001b[0m\u001b[0;34m.\u001b[0m\u001b[0m_SymbolicException\u001b[0m\u001b[0;34m:\u001b[0m\u001b[0;34m\u001b[0m\u001b[0;34m\u001b[0m\u001b[0m\n\u001b[1;32m   8375\u001b[0m       \u001b[0;32mpass\u001b[0m  \u001b[0;31m# Add nodes to the TensorFlow graph.\u001b[0m\u001b[0;34m\u001b[0m\u001b[0;34m\u001b[0m\u001b[0m\n",
            "\u001b[0;32m/usr/local/lib/python3.6/dist-packages/tensorflow/python/ops/gen_array_ops.py\u001b[0m in \u001b[0;36mreshape_eager_fallback\u001b[0;34m(tensor, shape, name, ctx)\u001b[0m\n\u001b[1;32m   8396\u001b[0m   \u001b[0m_attrs\u001b[0m \u001b[0;34m=\u001b[0m \u001b[0;34m(\u001b[0m\u001b[0;34m\"T\"\u001b[0m\u001b[0;34m,\u001b[0m \u001b[0m_attr_T\u001b[0m\u001b[0;34m,\u001b[0m \u001b[0;34m\"Tshape\"\u001b[0m\u001b[0;34m,\u001b[0m \u001b[0m_attr_Tshape\u001b[0m\u001b[0;34m)\u001b[0m\u001b[0;34m\u001b[0m\u001b[0;34m\u001b[0m\u001b[0m\n\u001b[1;32m   8397\u001b[0m   _result = _execute.execute(b\"Reshape\", 1, inputs=_inputs_flat, attrs=_attrs,\n\u001b[0;32m-> 8398\u001b[0;31m                              ctx=ctx, name=name)\n\u001b[0m\u001b[1;32m   8399\u001b[0m   \u001b[0;32mif\u001b[0m \u001b[0m_execute\u001b[0m\u001b[0;34m.\u001b[0m\u001b[0mmust_record_gradient\u001b[0m\u001b[0;34m(\u001b[0m\u001b[0;34m)\u001b[0m\u001b[0;34m:\u001b[0m\u001b[0;34m\u001b[0m\u001b[0;34m\u001b[0m\u001b[0m\n\u001b[1;32m   8400\u001b[0m     _execute.record_gradient(\n",
            "\u001b[0;32m/usr/local/lib/python3.6/dist-packages/tensorflow/python/eager/execute.py\u001b[0m in \u001b[0;36mquick_execute\u001b[0;34m(op_name, num_outputs, inputs, attrs, ctx, name)\u001b[0m\n\u001b[1;32m     58\u001b[0m     \u001b[0mctx\u001b[0m\u001b[0;34m.\u001b[0m\u001b[0mensure_initialized\u001b[0m\u001b[0;34m(\u001b[0m\u001b[0;34m)\u001b[0m\u001b[0;34m\u001b[0m\u001b[0;34m\u001b[0m\u001b[0m\n\u001b[1;32m     59\u001b[0m     tensors = pywrap_tfe.TFE_Py_Execute(ctx._handle, device_name, op_name,\n\u001b[0;32m---> 60\u001b[0;31m                                         inputs, attrs, num_outputs)\n\u001b[0m\u001b[1;32m     61\u001b[0m   \u001b[0;32mexcept\u001b[0m \u001b[0mcore\u001b[0m\u001b[0;34m.\u001b[0m\u001b[0m_NotOkStatusException\u001b[0m \u001b[0;32mas\u001b[0m \u001b[0me\u001b[0m\u001b[0;34m:\u001b[0m\u001b[0;34m\u001b[0m\u001b[0;34m\u001b[0m\u001b[0m\n\u001b[1;32m     62\u001b[0m     \u001b[0;32mif\u001b[0m \u001b[0mname\u001b[0m \u001b[0;32mis\u001b[0m \u001b[0;32mnot\u001b[0m \u001b[0;32mNone\u001b[0m\u001b[0;34m:\u001b[0m\u001b[0;34m\u001b[0m\u001b[0;34m\u001b[0m\u001b[0m\n",
            "\u001b[0;31mInvalidArgumentError\u001b[0m: Input to reshape is a tensor with 2 values, but the requested shape requires a multiple of 784 [Op:Reshape]"
          ]
        }
      ]
    },
    {
      "cell_type": "code",
      "metadata": {
        "id": "TSMCWalTNGJ2"
      },
      "source": [
        ""
      ],
      "execution_count": null,
      "outputs": []
    }
  ]
}